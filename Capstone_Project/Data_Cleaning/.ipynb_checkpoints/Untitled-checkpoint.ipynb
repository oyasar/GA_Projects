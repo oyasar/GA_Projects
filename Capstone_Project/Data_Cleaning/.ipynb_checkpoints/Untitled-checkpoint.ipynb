{
 "cells": [
  {
   "cell_type": "markdown",
   "metadata": {},
   "source": [
    "<b> Capstone Project Part 2 </b>"
   ]
  },
  {
   "cell_type": "markdown",
   "metadata": {},
   "source": [
    "<b> Web Scraping with Beautiful Soup </b>"
   ]
  },
  {
   "cell_type": "code",
   "execution_count": 219,
   "metadata": {},
   "outputs": [],
   "source": [
    "from threading import Thread\n",
    "from queue import Queue\n",
    "import time\n",
    "import requests\n",
    "import bs4\n",
    "from bs4 import BeautifulSoup\n",
    "from pprint import pprint\n",
    "import csv\n",
    "from tqdm import tqdm\n",
    "from urllib.request import urlopen, urlretrieve\n",
    "\n",
    "%config InlineBackend.figure_format = 'retina'\n",
    "%matplotlib inline\n",
    "\n",
    "import pandas as pd\n",
    "import numpy as np\n",
    "from pandas_summary import DataFrameSummary\n",
    "import seaborn as sns"
   ]
  },
  {
   "cell_type": "code",
   "execution_count": 218,
   "metadata": {},
   "outputs": [
    {
     "name": "stdout",
     "output_type": "stream",
     "text": [
      "Status Code:  200\n",
      "'Red Wine'\n"
     ]
    }
   ],
   "source": [
    "URL = 'https://www.wine.com/list/wine/red-wine/7155-124/2?showOutOfStock=false'\n",
    "response = requests.get(URL)\n",
    "\n",
    "# checking the response\n",
    "print('Status Code: ',response.status_code)\n",
    "\n",
    "# pulling the html string\n",
    "html = response.text\n",
    "# parsing html\n",
    "soup = BeautifulSoup(html, 'html.parser')\n",
    "\n",
    "# prod_page_link = soup.find('a', {'class':'prodItemThumb_link'})['href']\n",
    "# prod_title = soup.find('span', {'class': 'prodItemInfo_name'})['title']\n",
    "# prod_variety = soup.find('span', {'class': 'prodItemInfo_varietal'}).text\n",
    "# prod_origin = soup.find('span', {'class': 'prodItemInfo_originText'}).text\n",
    "# prod_ratings = soup.find('span', {'class': 'averageRating_average'}).text\n",
    "# prod_rating_average = soup.find('span', {'class': 'averageRating_average'}).text\n",
    "# prod_price = soup.find('span', {'class': 'productPrice_price-regWhole'}).text\n",
    "# prod_type = soup.find('li', {'class': 'icon icon-glass-red prodAttr_icon prodAttr_icon-redWine'})['title']\n",
    "\n",
    "\n",
    "# prod_img_link = soup.find('img', {'class': 'prodItemThumb_image'})['src']\n",
    "\n",
    "# pprint(prod_type)"
   ]
  },
  {
   "cell_type": "code",
   "execution_count": 231,
   "metadata": {},
   "outputs": [],
   "source": [
    "# function to pull product name\n",
    "def prod_title(soup):\n",
    "    try:\n",
    "        prod_title = soup.find('span', {'class': 'prodItemInfo_name'})['title']\n",
    "    except:\n",
    "        prod_title = None\n",
    "    return prod_title\n",
    "\n",
    "# function to pull product page link\n",
    "def prodpage_link(soup):\n",
    "    try:\n",
    "        prod_page_link = soup.find('a', {'class':'prodItemThumb_link'})['href']\n",
    "    except:\n",
    "        prod_page_link = None\n",
    "    return prod_page_link\n",
    "\n",
    "# product variety\n",
    "def prod_variety(soup):\n",
    "    try:\n",
    "        prod_variety = soup.find('span', {'class': 'prodItemInfo_varietal'}).text\n",
    "    except:\n",
    "        prod_variety = None\n",
    "    return prod_variety\n",
    "# product origin\n",
    "\n",
    "def prod_origin(soup):\n",
    "    try:\n",
    "        prod_origin = soup.find('span', {'class': 'prodItemInfo_originText'}).text\n",
    "    except:\n",
    "        prod_origin = None\n",
    "    return prod_origin\n",
    "\n",
    "# prod site rating\n",
    "def prod_site_rating_count(soup):\n",
    "    try:\n",
    "        prod_ratings = soup.find('span', {'class': 'averageRating_average'}).text\n",
    "    except:\n",
    "        prod_ratings = None\n",
    "    return prod_ratings\n",
    "\n",
    "# prod site rating average\n",
    "def prod_site_rateaverage(soup):\n",
    "    try:\n",
    "        prod_rating_average = soup.find('span', {'class': 'averageRating_average'}).text\n",
    "    except:\n",
    "        prod_rating_average = None\n",
    "    return prod_rating_average\n",
    "\n",
    "# prod price\n",
    "\n",
    "def prod_price(soup):\n",
    "    try:\n",
    "        prod_price = soup.find('span', {'class': 'productPrice_price-regWhole'}).text\n",
    "    except:\n",
    "        prod_price = None\n",
    "    return prod_price\n",
    "#  wine type\n",
    "\n",
    "def prod_type(soup):\n",
    "    try:\n",
    "        wine_type = soup.find('li', {'class': 'icon icon-glass-red prodAttr_icon prodAttr_icon-redWine'})['title']\n",
    "    except:\n",
    "        wine_type = None\n",
    "    return wine_type\n",
    "        \n",
    "# get image\n",
    "def get_img(soup):\n",
    "    try:\n",
    "        prod_img_link = soup.find('img', {'class': 'prodItemThumb_image'})['src']\n",
    "    except:\n",
    "        prod_img_link = None\n",
    "\n",
    "    img_url = 'http://www.wine.com{}'.format(prod_img_link)\n",
    "    file_name = prodpage_link(soup)[-6:]\n",
    "    urlretrieve(img_url, file_name)\n",
    "    return img_url"
   ]
  },
  {
   "cell_type": "code",
   "execution_count": 232,
   "metadata": {},
   "outputs": [
    {
     "data": {
      "text/plain": [
       "'http://www.wine.com/labels/357909l.jpg'"
      ]
     },
     "execution_count": 232,
     "metadata": {},
     "output_type": "execute_result"
    }
   ],
   "source": [
    "get_img(soup)"
   ]
  },
  {
   "cell_type": "code",
   "execution_count": 208,
   "metadata": {},
   "outputs": [
    {
     "data": {
      "text/plain": [
       "'357909'"
      ]
     },
     "execution_count": 208,
     "metadata": {},
     "output_type": "execute_result"
    }
   ],
   "source": [
    "prodpage_link(soup)[-6:]"
   ]
  },
  {
   "cell_type": "code",
   "execution_count": 97,
   "metadata": {},
   "outputs": [],
   "source": [
    "# product page connection\n",
    "url = 'https://www.wine.com/product/spring-valley-frederick-estate-red-2014/360858'\n",
    "res = requests.get(url)\n",
    "content = res.text\n",
    "soup_prod = BeautifulSoup(content, 'html.parser')\n"
   ]
  },
  {
   "cell_type": "code",
   "execution_count": 185,
   "metadata": {},
   "outputs": [],
   "source": [
    "# function to pull out the wine description from the product page\n",
    "def prod_info(soup_prod): \n",
    "# winery description of the wine\n",
    "    try:\n",
    "        desc = soup_prod.find('div', {'class': 'viewMoreModule_text'}).getText(separator = ' ')\n",
    "    except:\n",
    "        desc=None\n",
    "    return desc"
   ]
  },
  {
   "cell_type": "code",
   "execution_count": null,
   "metadata": {},
   "outputs": [],
   "source": [
    "# function to pull out the winery name\n",
    "def winery_name(soup_prod):\n",
    "    try:\n",
    "        winery = soup_prod.find('h2', {'class':'pipWinery_headline'}).text\n",
    "    except:\n",
    "        winery = None\n",
    "    return winery"
   ]
  },
  {
   "cell_type": "code",
   "execution_count": 183,
   "metadata": {},
   "outputs": [],
   "source": [
    "# function to pull the reviewing authority initials, ratings ans the review text.\n",
    "def critical_acc(soup_prod):\n",
    "    initl = []\n",
    "    ratel = []\n",
    "    reviewl = []\n",
    "    all_rew = soup_prod.find_all('div', {'class': 'pipProfessionalReviews_list'})\n",
    "    for item in all_rew:\n",
    "        try:\n",
    "            pr_init = item.find('span', class_='wineRatings_initials').text\n",
    "            pr_rate = item.find('span', class_='wineRatings_rating').text\n",
    "            pr_review = item.find('div', {'class': 'pipSecContent_copy'}).text\n",
    "        except:\n",
    "            pr_init: None\n",
    "            pr_rate : None\n",
    "            pr_review: None\n",
    "        initl.append(pr_init)\n",
    "        ratel.append(pr_rate)\n",
    "        reviewl.append(pr_review)\n",
    "    return initl, ratel, reviewl\n",
    "\n",
    "        "
   ]
  },
  {
   "cell_type": "code",
   "execution_count": null,
   "metadata": {},
   "outputs": [],
   "source": [
    "    prof_rate = ['WS', 'RP', 'W&S', 'JH', 'CG', 'WE', 'WW', 'BH', 'JS', 'TP', 'D', 'V', 'JD']"
   ]
  },
  {
   "cell_type": "code",
   "execution_count": null,
   "metadata": {},
   "outputs": [],
   "source": []
  },
  {
   "cell_type": "code",
   "execution_count": null,
   "metadata": {},
   "outputs": [],
   "source": []
  },
  {
   "cell_type": "code",
   "execution_count": null,
   "metadata": {},
   "outputs": [],
   "source": []
  },
  {
   "cell_type": "code",
   "execution_count": null,
   "metadata": {},
   "outputs": [],
   "source": []
  },
  {
   "cell_type": "code",
   "execution_count": null,
   "metadata": {},
   "outputs": [],
   "source": []
  },
  {
   "cell_type": "code",
   "execution_count": null,
   "metadata": {},
   "outputs": [],
   "source": []
  },
  {
   "cell_type": "code",
   "execution_count": null,
   "metadata": {},
   "outputs": [],
   "source": []
  }
 ],
 "metadata": {
  "kernelspec": {
   "display_name": "Python 3",
   "language": "python",
   "name": "python3"
  },
  "language_info": {
   "codemirror_mode": {
    "name": "ipython",
    "version": 3
   },
   "file_extension": ".py",
   "mimetype": "text/x-python",
   "name": "python",
   "nbconvert_exporter": "python",
   "pygments_lexer": "ipython3",
   "version": "3.6.4"
  },
  "toc": {
   "nav_menu": {},
   "number_sections": true,
   "sideBar": true,
   "skip_h1_title": false,
   "title_cell": "Table of Contents",
   "title_sidebar": "Contents",
   "toc_cell": false,
   "toc_position": {},
   "toc_section_display": true,
   "toc_window_display": false
  }
 },
 "nbformat": 4,
 "nbformat_minor": 2
}

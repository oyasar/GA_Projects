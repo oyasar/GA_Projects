{
 "cells": [
  {
   "cell_type": "markdown",
   "metadata": {
    "focus": false,
    "id": "69b9a648-bcc7-490d-9f9b-ea244d156bd6"
   },
   "source": [
    "<img src=\"http://imgur.com/1ZcRyrc.png\" style=\"float: left; margin: 15px; height: 80px\">\n",
    "\n",
    "\n",
    "# Web Scraping for Indeed.com and Predicting Salaries"
   ]
  },
  {
   "cell_type": "markdown",
   "metadata": {
    "focus": false,
    "id": "34681254-c802-462f-829d-8894d0772d08"
   },
   "source": [
    "In this project, we will practice two major skills: collecting data by scraping a website and then building a binary predictor with Logistic Regression.\n",
    "\n",
    "We are going to collect salary information on data science jobs in a variety of markets. Then using the location, title and summary of the job we will attempt to predict the salary of the job. For job posting sites, this would be extraordinarily useful. While most listings DO NOT come with salary information (as you will see in this exercise), being able to extrapolate or predict the expected salaries from other listings can help guide negotiations.\n",
    "\n",
    "Normally, we could use regression for this task; however, we will convert this problem into classification and use Logistic Regression or any other suitable classifier.\n",
    "\n",
    "- Question: Why would we want this to be a classification problem?\n",
    "- Answer: While more precision may be better, there is a fair amount of natural variance in job salaries - predicting a range may be useful.\n",
    "\n",
    "Therefore, the first part of the assignment will be focused on scraping Indeed.com. In the second, we'll focus on using listings with salary information to build a model and predict additional salaries."
   ]
  },
  {
   "cell_type": "markdown",
   "metadata": {
    "focus": false,
    "id": "a948d79c-5527-4c0d-ab23-f5d43ce72056"
   },
   "source": [
    "### Scraping job listings from Indeed.com"
   ]
  },
  {
   "cell_type": "markdown",
   "metadata": {
    "focus": true,
    "id": "7203e0c9-e437-4802-a6ad-7dc464f94436"
   },
   "source": [
    "We will be scraping job listings from Indeed.com using BeautifulSoup. Luckily, Indeed.com is a simple text page where we can easily find relevant entries.\n",
    "\n",
    "First, look at the source of an Indeed.com page: (http://www.indeed.com/jobs?q=data+scientist+%2420%2C000&l=New+York&start=10\").\n",
    "\n",
    "Notice, each job listing is underneath a `div` tag with a class name of `result`. We can use BeautifulSoup to extract those. "
   ]
  },
  {
   "cell_type": "markdown",
   "metadata": {
    "focus": false,
    "id": "9732c901-ae26-4160-8376-42e22dd327df"
   },
   "source": [
    "#### Setup a request (using `requests`) to the URL below. Use BeautifulSoup to parse the page and extract all results (HINT: Look for div tags with class name result)\n",
    "\n",
    "The URL here has many query parameters:\n",
    "\n",
    "- `q` for the job search\n",
    "- This is followed by \"+20,000\" to return results with salaries (or expected salaries >$20,000)\n",
    "- `l` for a location \n",
    "- `start` for what result number to start on"
   ]
  },
  {
   "cell_type": "code",
   "execution_count": null,
   "metadata": {
    "focus": false,
    "id": "e915023e-6b0d-4982-af2a-b1e0355f4927"
   },
   "outputs": [],
   "source": [
    "URL = \"http://www.indeed.com/jobs?q=data+scientist+%2420%2C000&l=New+York&start=10\""
   ]
  },
  {
   "cell_type": "code",
   "execution_count": null,
   "metadata": {
    "focus": false,
    "id": "2efefc73-064a-482d-b3b5-ddf5508cb4ec"
   },
   "outputs": [],
   "source": [
    "import requests\n",
    "import bs4\n",
    "from bs4 import BeautifulSoup\n",
    "from pprint import pprint\n",
    "import csv\n",
    "from tqdm import tqdm\n",
    "import pandas as pd\n",
    "import numpy as np\n",
    "from pandas_summary import DataFrameSummary\n",
    "import seaborn as sns\n",
    "\n",
    "%config InlineBackend.figure_format = 'retina'\n",
    "%matplotlib inline\n",
    "\n",
    "import matplotlib.pyplot as pltfrom \n",
    "from sklearn.linear_model import LogisticRegression\n",
    "from sklearn.neighbors.classification import KNeighborsClassifier\n",
    "from sklearn.preprocessing import StandardScaler\n",
    "from sklearn.cross_validation import cross_val_score, train_test_split\n",
    "from sklearn.metrics import accuracy_score, classification_report, confusion_matrix, precision_score, roc_auc_score\n",
    "from scipy import stats\n",
    "stats.chisqprob = lambda chisq, df: stats.chi2.sf(chisq, df)\n",
    "import statsmodels.api as sm"
   ]
  },
  {
   "cell_type": "code",
   "execution_count": null,
   "metadata": {
    "focus": false,
    "id": "2c6752c4-7704-4c94-8bc0-6f13d2d0d570"
   },
   "outputs": [],
   "source": [
    "## YOUR CODE HERE\n",
    "response = requests.get(URL)\n",
    "\n",
    "# checking the response\n",
    "print('Status Code: ',response.status_code)\n",
    "\n",
    "# pulling the html string\n",
    "html = response.text\n",
    "\n",
    "soup = BeautifulSoup(html, 'html.parser')\n",
    "\n",
    "# print(soup.prettify())\n"
   ]
  },
  {
   "cell_type": "markdown",
   "metadata": {
    "focus": false,
    "id": "bb0b866a-26a7-45e9-8084-5a0f90eb4b3e"
   },
   "source": [
    "Let's look at one result more closely. A single `result` looks like\n",
    "\n",
    "```\n",
    "<div class=\" row result\" data-jk=\"2480d203f7e97210\" data-tn-component=\"organicJob\" id=\"p_2480d203f7e97210\" itemscope=\"\" itemtype=\"http://schema.org/JobPosting\">\n",
    "<h2 class=\"jobtitle\" id=\"jl_2480d203f7e97210\">\n",
    "<a class=\"turnstileLink\" data-tn-element=\"jobTitle\" onmousedown=\"return rclk(this,jobmap[0],1);\" rel=\"nofollow\" target=\"_blank\" title=\"AVP/Quantitative Analyst\">AVP/Quantitative Analyst</a>\n",
    "</h2>\n",
    "<span class=\"company\" itemprop=\"hiringOrganization\" itemtype=\"http://schema.org/Organization\">\n",
    "<span itemprop=\"name\">\n",
    "<a href=\"/cmp/Alliancebernstein?from=SERP&amp;campaignid=serp-linkcompanyname&amp;fromjk=2480d203f7e97210&amp;jcid=b374f2a780e04789\" target=\"_blank\">\n",
    "    AllianceBernstein</a></span>\n",
    "</span>\n",
    "<tr>\n",
    "<td class=\"snip\">\n",
    "<nobr>$117,500 - $127,500 a year</nobr>\n",
    "<div>\n",
    "<span class=\"summary\" itemprop=\"description\">\n",
    "C onduct quantitative and statistical research as well as portfolio management for various investment portfolios. Collaborate with Quantitative Analysts and</span>\n",
    "</div>\n",
    "</div>\n",
    "</td>\n",
    "</tr>\n",
    "</table>\n",
    "</div>\n",
    "```\n",
    "\n",
    "While this has some more verbose elements removed, we can see that there is some structure to the above:\n",
    "- The salary is available in a `nobr` element inside of a `td` element with `class='snip'`.\n",
    "- The title of a job is in a link with class set to `jobtitle` and a `data-tn-element='jobTitle'`.  \n",
    "- The location is set in a `span` with `class='location'`. \n",
    "- The company is set in a `span` with `class='company'`. "
   ]
  },
  {
   "cell_type": "markdown",
   "metadata": {
    "focus": false,
    "id": "f1eddb90-4ba8-483c-a229-77e93aa53119"
   },
   "source": [
    "### Write 4 functions to extract each item: location, company, job, and salary.\n",
    "\n",
    "Example: \n",
    "```python\n",
    "def extract_location_from_result(result):\n",
    "    return result.find ...\n",
    "```\n",
    "\n",
    "\n",
    "- **Make sure these functions are robust and can handle cases where the data/field may not be available.**\n",
    "    - Remember to check if a field is empty or `None` for attempting to call methods on it.\n",
    "    - Remember to use `try/except` if you anticipate errors.\n",
    "- **Test** the functions on the results above and simple examples."
   ]
  },
  {
   "cell_type": "code",
   "execution_count": null,
   "metadata": {
    "focus": false,
    "id": "a1af53c9-9090-494f-b82e-cadb60a54909"
   },
   "outputs": [],
   "source": [
    "## YOUR CODE HERE\n",
    "\n",
    "def extract_location_from_result(html_data):\n",
    "    l=[]\n",
    "    for item in html_data.find_all(name='span', class_='location'):\n",
    "        try:\n",
    "            location = item.text.strip('\\n, ')\n",
    "        except:\n",
    "            location = None\n",
    "        l.append(location)\n",
    "    return l\n",
    "\n",
    "def extract_company_from_result(html_data):\n",
    "    l=[]\n",
    "    for item in html_data.find_all(name='span', class_='company'):\n",
    "        try:\n",
    "            company = item.getText().strip('\\n, ')\n",
    "        except:\n",
    "            company = None\n",
    "        l.append(company)\n",
    "    return l\n",
    "    \n",
    "def extract_jobtitle_from_result(html_data):\n",
    "    l = []\n",
    "    for item in html_data.find_all(name='h2', class_='jobtitle'):\n",
    "        try:\n",
    "            jobtitle = item.text.strip('\\n, ')\n",
    "        except:\n",
    "            jobtitle = None\n",
    "        l.append(jobtitle)\n",
    "    return l\n",
    "\n",
    "def extract_salary_from_result(html_data):\n",
    "    l = []\n",
    "    for item in html_data.find_all(name='td', class_='snip'):\n",
    "        try:\n",
    "            salary = item.find(name='span', class_='no-wrap').text.strip('\\n, ')\n",
    "        except:\n",
    "            salary = None\n",
    "        l.append(salary)\n",
    "    return l\n",
    "\n",
    "        \n",
    "        \n",
    "    "
   ]
  },
  {
   "cell_type": "markdown",
   "metadata": {
    "focus": false,
    "id": "34070e89-9521-4b45-90c8-57a6599aac68"
   },
   "source": [
    "Now, to scale up our scraping, we need to accumulate more results. We can do this by examining the URL above.\n",
    "\n",
    "- \"http://www.indeed.com/jobs?q=data+scientist+%2420%2C000&l=New+York&start=10\"\n",
    "\n",
    "There are two query parameters here we can alter to collect more results, the `l=New+York` and the `start=10`. The first controls the location of the results (so we can try a different city). The second controls where in the results to start and gives 10 results (thus, we can keep incrementing by 10 to go further in the list)."
   ]
  },
  {
   "cell_type": "markdown",
   "metadata": {
    "focus": false,
    "id": "e8beed7c-3e42-40c0-810f-5f67f8f885a0"
   },
   "source": [
    "#### Complete the following code to collect results from multiple cities and starting points. \n",
    "- Enter your city below to add it to the search.\n",
    "- Remember to convert your salary to U.S. Dollars to match the other cities if the currency is different."
   ]
  },
  {
   "cell_type": "code",
   "execution_count": null,
   "metadata": {
    "focus": false,
    "id": "a9aa87ec-3575-4a01-a986-eb684f2c47d0"
   },
   "outputs": [],
   "source": [
    "# YOUR_CITY = \n",
    "# I've added San Diego, Boston and Pittsburgh instead of London"
   ]
  },
  {
   "cell_type": "code",
   "execution_count": null,
   "metadata": {
    "focus": false,
    "id": "04b0f9af-540e-402f-8292-81748707c676"
   },
   "outputs": [],
   "source": [
    "url_template = \"http://www.indeed.com/jobs?q=data+scientist+%2420%2C000&l={}&start={}\"\n",
    "max_results_per_city = 5000 # Set this to a high-value (5000) to generate more results. \n",
    "# Crawling more results, will also take much longer. First test your code on a small number of results and then expand.\n",
    "\n",
    "csv_file = open('indeed_datascience_scrape_none.csv', 'w')\n",
    "csv_writer = csv.writer(csv_file)\n",
    "csv_writer.writerow(['location', 'company', 'salary', 'job_title'])\n",
    "\n",
    "for city in set(['New+York', 'Chicago', 'San+Francisco', 'Austin', 'Seattle', \n",
    "    'Los+Angeles', 'Philadelphia', 'Atlanta', 'Dallas', 'Pittsburgh', \n",
    "    'Portland', 'Phoenix', 'Denver', 'Houston', 'Miami', 'San+Diego', 'Boston']):\n",
    "\n",
    "    print(city)\n",
    "    for start in tqdm(range(0, max_results_per_city, 10)):\n",
    "        # Grab the results from the request (as above)\n",
    "        # Append to the full set of results\n",
    "\n",
    "        response = requests.get(url_template.format(city, start))\n",
    "        \n",
    "        # pulling the html string\n",
    "        html = response.text\n",
    "        soup = BeautifulSoup(html, 'html.parser')\n",
    "        \n",
    "#         below functions returns lists including information from each result page\n",
    "        location = extract_location_from_result(soup)\n",
    "        company = extract_company_from_result(soup)\n",
    "        salary = extract_salary_from_result(soup)\n",
    "        job_title = extract_jobtitle_from_result(soup)\n",
    "        \n",
    "#         below loop reads the result lists and adds the location, company, salary and job_title information to the\n",
    "# csv file\n",
    "\n",
    "        for a in range(len(company)):\n",
    "            \n",
    "            csv_writer.writerow([location[a], company[a], salary[a], job_title[a]])\n",
    "            a = 0\n",
    "    \n",
    "csv_file.close()"
   ]
  },
  {
   "cell_type": "markdown",
   "metadata": {
    "focus": false,
    "id": "20339c09-5032-4e27-91be-286e9b46cd13"
   },
   "source": [
    "#### Use the functions you wrote above to parse out the 4 fields - location, title, company and salary. Create a dataframe from the results with those 4 columns."
   ]
  },
  {
   "cell_type": "code",
   "execution_count": 33,
   "metadata": {
    "focus": false,
    "id": "6e259594-1c52-436b-ab9e-527e071941c1"
   },
   "outputs": [
    {
     "data": {
      "text/html": [
       "<div>\n",
       "<style scoped>\n",
       "    .dataframe tbody tr th:only-of-type {\n",
       "        vertical-align: middle;\n",
       "    }\n",
       "\n",
       "    .dataframe tbody tr th {\n",
       "        vertical-align: top;\n",
       "    }\n",
       "\n",
       "    .dataframe thead th {\n",
       "        text-align: right;\n",
       "    }\n",
       "</style>\n",
       "<table border=\"1\" class=\"dataframe\">\n",
       "  <thead>\n",
       "    <tr style=\"text-align: right;\">\n",
       "      <th></th>\n",
       "      <th>location</th>\n",
       "      <th>company</th>\n",
       "      <th>salary</th>\n",
       "      <th>job_title</th>\n",
       "    </tr>\n",
       "  </thead>\n",
       "  <tbody>\n",
       "    <tr>\n",
       "      <th>0</th>\n",
       "      <td>Chicago, IL 60601 (Loop area)</td>\n",
       "      <td>Allstate</td>\n",
       "      <td>NaN</td>\n",
       "      <td>Junior Business Analytics Consultant (Charlott...</td>\n",
       "    </tr>\n",
       "    <tr>\n",
       "      <th>1</th>\n",
       "      <td>Chicago, IL 60647 (Logan Square area)</td>\n",
       "      <td>Coyote Logistics</td>\n",
       "      <td>NaN</td>\n",
       "      <td>Sr. Data Scientist</td>\n",
       "    </tr>\n",
       "    <tr>\n",
       "      <th>2</th>\n",
       "      <td>Chicago, IL</td>\n",
       "      <td>PowerReviews</td>\n",
       "      <td>NaN</td>\n",
       "      <td>Business Intelligence Analyst</td>\n",
       "    </tr>\n",
       "    <tr>\n",
       "      <th>3</th>\n",
       "      <td>Chicago, IL</td>\n",
       "      <td>McKinsey &amp; Company</td>\n",
       "      <td>NaN</td>\n",
       "      <td>Intern - Freshman Women in Computer Science, N...</td>\n",
       "    </tr>\n",
       "    <tr>\n",
       "      <th>4</th>\n",
       "      <td>Chicago, IL</td>\n",
       "      <td>McKinsey &amp; Company</td>\n",
       "      <td>NaN</td>\n",
       "      <td>Analyst - Periscope Advanced Insights - Growth...</td>\n",
       "    </tr>\n",
       "  </tbody>\n",
       "</table>\n",
       "</div>"
      ],
      "text/plain": [
       "                                location             company salary  \\\n",
       "0          Chicago, IL 60601 (Loop area)            Allstate    NaN   \n",
       "1  Chicago, IL 60647 (Logan Square area)    Coyote Logistics    NaN   \n",
       "2                            Chicago, IL        PowerReviews    NaN   \n",
       "3                            Chicago, IL  McKinsey & Company    NaN   \n",
       "4                            Chicago, IL  McKinsey & Company    NaN   \n",
       "\n",
       "                                           job_title  \n",
       "0  Junior Business Analytics Consultant (Charlott...  \n",
       "1                                 Sr. Data Scientist  \n",
       "2                      Business Intelligence Analyst  \n",
       "3  Intern - Freshman Women in Computer Science, N...  \n",
       "4  Analyst - Periscope Advanced Insights - Growth...  "
      ]
     },
     "execution_count": 33,
     "metadata": {},
     "output_type": "execute_result"
    }
   ],
   "source": [
    "## YOUR CODE HERE\n",
    "df = pd.read_csv('indeed_datascience_scrape_n3.csv')\n",
    "df.head()"
   ]
  },
  {
   "cell_type": "code",
   "execution_count": 34,
   "metadata": {
    "scrolled": true
   },
   "outputs": [
    {
     "data": {
      "text/html": [
       "<div>\n",
       "<style scoped>\n",
       "    .dataframe tbody tr th:only-of-type {\n",
       "        vertical-align: middle;\n",
       "    }\n",
       "\n",
       "    .dataframe tbody tr th {\n",
       "        vertical-align: top;\n",
       "    }\n",
       "\n",
       "    .dataframe thead th {\n",
       "        text-align: right;\n",
       "    }\n",
       "</style>\n",
       "<table border=\"1\" class=\"dataframe\">\n",
       "  <thead>\n",
       "    <tr style=\"text-align: right;\">\n",
       "      <th></th>\n",
       "      <th>location</th>\n",
       "      <th>company</th>\n",
       "      <th>salary</th>\n",
       "      <th>job_title</th>\n",
       "    </tr>\n",
       "  </thead>\n",
       "  <tbody>\n",
       "    <tr>\n",
       "      <th>89920</th>\n",
       "      <td>Dallas, TX</td>\n",
       "      <td>JAMY INTERACTIVE,INC</td>\n",
       "      <td>NaN</td>\n",
       "      <td>Senior Data Scientist</td>\n",
       "    </tr>\n",
       "    <tr>\n",
       "      <th>89921</th>\n",
       "      <td>Dallas, TX</td>\n",
       "      <td>Vet2Tech</td>\n",
       "      <td>NaN</td>\n",
       "      <td>Marketing Research Analyst</td>\n",
       "    </tr>\n",
       "    <tr>\n",
       "      <th>89922</th>\n",
       "      <td>Dallas-Fort Worth, TX</td>\n",
       "      <td>RockBridge Search &amp; Recruitment</td>\n",
       "      <td>NaN</td>\n",
       "      <td>ALM - Quantitative Risk Analyst</td>\n",
       "    </tr>\n",
       "    <tr>\n",
       "      <th>89923</th>\n",
       "      <td>Dallas-Fort Worth, TX</td>\n",
       "      <td>RockBridge Search &amp; Recruitment</td>\n",
       "      <td>NaN</td>\n",
       "      <td>Financial Risk - Quantitative Risk Analyst</td>\n",
       "    </tr>\n",
       "    <tr>\n",
       "      <th>89924</th>\n",
       "      <td>Dallas, TX 75214 (Northeast Dallas area)</td>\n",
       "      <td>DIVERSANT LLC</td>\n",
       "      <td>NaN</td>\n",
       "      <td>Machine Learning (NLP) Engineer</td>\n",
       "    </tr>\n",
       "  </tbody>\n",
       "</table>\n",
       "</div>"
      ],
      "text/plain": [
       "                                       location  \\\n",
       "89920                                Dallas, TX   \n",
       "89921                                Dallas, TX   \n",
       "89922                     Dallas-Fort Worth, TX   \n",
       "89923                     Dallas-Fort Worth, TX   \n",
       "89924  Dallas, TX 75214 (Northeast Dallas area)   \n",
       "\n",
       "                               company salary  \\\n",
       "89920             JAMY INTERACTIVE,INC    NaN   \n",
       "89921                         Vet2Tech    NaN   \n",
       "89922  RockBridge Search & Recruitment    NaN   \n",
       "89923  RockBridge Search & Recruitment    NaN   \n",
       "89924                    DIVERSANT LLC    NaN   \n",
       "\n",
       "                                        job_title  \n",
       "89920                       Senior Data Scientist  \n",
       "89921                  Marketing Research Analyst  \n",
       "89922             ALM - Quantitative Risk Analyst  \n",
       "89923  Financial Risk - Quantitative Risk Analyst  \n",
       "89924             Machine Learning (NLP) Engineer  "
      ]
     },
     "execution_count": 34,
     "metadata": {},
     "output_type": "execute_result"
    }
   ],
   "source": [
    "df.tail()"
   ]
  },
  {
   "cell_type": "code",
   "execution_count": 35,
   "metadata": {},
   "outputs": [
    {
     "data": {
      "text/plain": [
       "(89925, 4)"
      ]
     },
     "execution_count": 35,
     "metadata": {},
     "output_type": "execute_result"
    }
   ],
   "source": [
    "df.shape"
   ]
  },
  {
   "cell_type": "markdown",
   "metadata": {
    "focus": false,
    "id": "ff98ce64-78a7-441f-a675-63464e32c834"
   },
   "source": [
    "Lastly, we need to clean up salary data. \n",
    "\n",
    "1. Only a small number of the scraped results have salary information - only these will be used for modeling.\n",
    "1. Some of the salaries are not yearly but hourly or weekly, these will not be useful to us for now.\n",
    "1. Some of the entries may be duplicated.\n",
    "1. The salaries are given as text and usually with ranges."
   ]
  },
  {
   "cell_type": "markdown",
   "metadata": {
    "focus": false,
    "id": "ff98ce64-78a7-441f-a675-63464e32c834"
   },
   "source": [
    "#### Find the entries with annual salary entries, by filtering the entries without salaries or salaries that are not yearly (filter those that refer to hour or week). Also, remove duplicate entries."
   ]
  },
  {
   "cell_type": "code",
   "execution_count": 36,
   "metadata": {
    "focus": false,
    "id": "58533e57-f86b-494a-b841-e7b59c6229c6"
   },
   "outputs": [
    {
     "data": {
      "text/plain": [
       "(10604, 4)"
      ]
     },
     "execution_count": 36,
     "metadata": {},
     "output_type": "execute_result"
    }
   ],
   "source": [
    "## Dropping the rows null information.\n",
    "df = df.dropna()\n",
    "df.shape"
   ]
  },
  {
   "cell_type": "code",
   "execution_count": 37,
   "metadata": {},
   "outputs": [
    {
     "data": {
      "text/plain": [
       "(300, 4)"
      ]
     },
     "execution_count": 37,
     "metadata": {},
     "output_type": "execute_result"
    }
   ],
   "source": [
    "# Dropping duplicate rows\n",
    "df = df.drop_duplicates(keep=False)\n",
    "df.shape"
   ]
  },
  {
   "cell_type": "code",
   "execution_count": 38,
   "metadata": {},
   "outputs": [],
   "source": [
    "# filtering annual salaries.\n",
    "pl = ['hour', 'week', 'month', 'day']\n",
    "for i in pl:\n",
    "    df = df.loc[~df['salary'].str.contains(i)]"
   ]
  },
  {
   "cell_type": "code",
   "execution_count": 39,
   "metadata": {
    "scrolled": true
   },
   "outputs": [
    {
     "data": {
      "text/plain": [
       "(230, 4)"
      ]
     },
     "execution_count": 39,
     "metadata": {},
     "output_type": "execute_result"
    }
   ],
   "source": [
    "df.shape"
   ]
  },
  {
   "cell_type": "code",
   "execution_count": 40,
   "metadata": {},
   "outputs": [],
   "source": [
    "df = df.reset_index()"
   ]
  },
  {
   "cell_type": "code",
   "execution_count": 41,
   "metadata": {
    "scrolled": true
   },
   "outputs": [
    {
     "data": {
      "text/plain": [
       "0        166\n",
       "1        167\n",
       "2        203\n",
       "3        381\n",
       "4        406\n",
       "5        409\n",
       "6        410\n",
       "7        413\n",
       "8        414\n",
       "9        415\n",
       "10       455\n",
       "11       465\n",
       "12       476\n",
       "13       525\n",
       "14       526\n",
       "15       533\n",
       "16       543\n",
       "17       545\n",
       "18       547\n",
       "19       559\n",
       "20       566\n",
       "21       587\n",
       "22       627\n",
       "23       630\n",
       "24       648\n",
       "25      4999\n",
       "26      5009\n",
       "27      5074\n",
       "28      5227\n",
       "29      5239\n",
       "30      5277\n",
       "31      9997\n",
       "32     10004\n",
       "33     10006\n",
       "34     10007\n",
       "35     10033\n",
       "36     10049\n",
       "37     10102\n",
       "38     10103\n",
       "39     10246\n",
       "40     10314\n",
       "41     14992\n",
       "42     14995\n",
       "43     15207\n",
       "44     15402\n",
       "45     15505\n",
       "46     15509\n",
       "47     19999\n",
       "48     20006\n",
       "49     20056\n",
       "50     20083\n",
       "51     25159\n",
       "52     25160\n",
       "53     25161\n",
       "54     25162\n",
       "55     25163\n",
       "56     25164\n",
       "57     25168\n",
       "58     25215\n",
       "59     25220\n",
       "60     30020\n",
       "61     30021\n",
       "62     30138\n",
       "63     30142\n",
       "64     30148\n",
       "65     30153\n",
       "66     30155\n",
       "67     30163\n",
       "68     30190\n",
       "69     30191\n",
       "70     30195\n",
       "71     30197\n",
       "72     34992\n",
       "73     35030\n",
       "74     35041\n",
       "75     35063\n",
       "76     39975\n",
       "77     39976\n",
       "78     39999\n",
       "79     40011\n",
       "80     40021\n",
       "81     40047\n",
       "82     40049\n",
       "83     40053\n",
       "84     40060\n",
       "85     40073\n",
       "86     40074\n",
       "87     40075\n",
       "88     40078\n",
       "89     40089\n",
       "90     40095\n",
       "91     40107\n",
       "92     40137\n",
       "93     40164\n",
       "94     40165\n",
       "95     40173\n",
       "96     44998\n",
       "97     45114\n",
       "98     45125\n",
       "99     45130\n",
       "100    45466\n",
       "101    45467\n",
       "102    45472\n",
       "103    45473\n",
       "104    45474\n",
       "105    45538\n",
       "106    45611\n",
       "107    49964\n",
       "108    49965\n",
       "109    50013\n",
       "110    50089\n",
       "111    50096\n",
       "112    50151\n",
       "113    50167\n",
       "114    50169\n",
       "115    50172\n",
       "116    50267\n",
       "117    50299\n",
       "118    50311\n",
       "119    50361\n",
       "120    50406\n",
       "121    50463\n",
       "122    50505\n",
       "123    50542\n",
       "124    50887\n",
       "125    54987\n",
       "126    54997\n",
       "127    59981\n",
       "128    60014\n",
       "129    60021\n",
       "130    60027\n",
       "131    60068\n",
       "132    60073\n",
       "133    60109\n",
       "134    60117\n",
       "135    60318\n",
       "136    60319\n",
       "137    60322\n",
       "138    60326\n",
       "139    60354\n",
       "140    60358\n",
       "141    60362\n",
       "142    60366\n",
       "143    60443\n",
       "144    60485\n",
       "145    60554\n",
       "146    60560\n",
       "147    60564\n",
       "148    60579\n",
       "149    60591\n",
       "150    60760\n",
       "151    60793\n",
       "152    60868\n",
       "153    60869\n",
       "154    60871\n",
       "155    60875\n",
       "156    60891\n",
       "157    60893\n",
       "158    64964\n",
       "159    64965\n",
       "160    64966\n",
       "161    64967\n",
       "162    64969\n",
       "163    64983\n",
       "164    64984\n",
       "165    64985\n",
       "166    65000\n",
       "167    65011\n",
       "168    65012\n",
       "169    65030\n",
       "170    65035\n",
       "171    65213\n",
       "172    69991\n",
       "173    70021\n",
       "174    70044\n",
       "175    70292\n",
       "176    70301\n",
       "177    70315\n",
       "178    70328\n",
       "179    70329\n",
       "180    70331\n",
       "181    70358\n",
       "182    70360\n",
       "183    70363\n",
       "184    70374\n",
       "185    70385\n",
       "186    70405\n",
       "187    70407\n",
       "188    74933\n",
       "189    74949\n",
       "190    75058\n",
       "191    75396\n",
       "192    75460\n",
       "193    75468\n",
       "194    75477\n",
       "195    75515\n",
       "196    75517\n",
       "197    75518\n",
       "198    75525\n",
       "199    75554\n",
       "200    75556\n",
       "201    75557\n",
       "202    75559\n",
       "203    79935\n",
       "204    79936\n",
       "205    79939\n",
       "206    80095\n",
       "207    80227\n",
       "208    80250\n",
       "209    80343\n",
       "210    80354\n",
       "211    80360\n",
       "212    80401\n",
       "213    80414\n",
       "214    80463\n",
       "215    80467\n",
       "216    80481\n",
       "217    80486\n",
       "218    80574\n",
       "219    80698\n",
       "220    80700\n",
       "221    80752\n",
       "222    80846\n",
       "223    80858\n",
       "224    80896\n",
       "225    80964\n",
       "226    80967\n",
       "227    80969\n",
       "228    85069\n",
       "229    85164\n",
       "Name: index, dtype: int64"
      ]
     },
     "execution_count": 41,
     "metadata": {},
     "output_type": "execute_result"
    }
   ],
   "source": [
    "# removing index column from the original file not to have confusion\n",
    "df.pop('index')"
   ]
  },
  {
   "cell_type": "code",
   "execution_count": 42,
   "metadata": {},
   "outputs": [
    {
     "data": {
      "text/html": [
       "<div>\n",
       "<style scoped>\n",
       "    .dataframe tbody tr th:only-of-type {\n",
       "        vertical-align: middle;\n",
       "    }\n",
       "\n",
       "    .dataframe tbody tr th {\n",
       "        vertical-align: top;\n",
       "    }\n",
       "\n",
       "    .dataframe thead th {\n",
       "        text-align: right;\n",
       "    }\n",
       "</style>\n",
       "<table border=\"1\" class=\"dataframe\">\n",
       "  <thead>\n",
       "    <tr style=\"text-align: right;\">\n",
       "      <th></th>\n",
       "      <th>location</th>\n",
       "      <th>company</th>\n",
       "      <th>salary</th>\n",
       "      <th>job_title</th>\n",
       "    </tr>\n",
       "  </thead>\n",
       "  <tbody>\n",
       "    <tr>\n",
       "      <th>0</th>\n",
       "      <td>Chicago, IL</td>\n",
       "      <td>Jobspring Partners</td>\n",
       "      <td>$170,000 - $220,000 a year</td>\n",
       "      <td>Principal Machine Learning Engineer</td>\n",
       "    </tr>\n",
       "    <tr>\n",
       "      <th>1</th>\n",
       "      <td>Chicago, IL</td>\n",
       "      <td>Workbridge Associates</td>\n",
       "      <td>$130,000 - $180,000 a year</td>\n",
       "      <td>Machine Learning Architect</td>\n",
       "    </tr>\n",
       "    <tr>\n",
       "      <th>2</th>\n",
       "      <td>Chicago, IL</td>\n",
       "      <td>All-In Analytics</td>\n",
       "      <td>$120,000 - $130,000 a year</td>\n",
       "      <td>Sr. Model Validation Analyst</td>\n",
       "    </tr>\n",
       "    <tr>\n",
       "      <th>3</th>\n",
       "      <td>Chicago, IL</td>\n",
       "      <td>Workbridge Associates</td>\n",
       "      <td>$80,000 - $110,000 a year</td>\n",
       "      <td>Data Engineer (C#, Azure, NoSQL)</td>\n",
       "    </tr>\n",
       "    <tr>\n",
       "      <th>4</th>\n",
       "      <td>Chicago, IL</td>\n",
       "      <td>Workbridge Associates</td>\n",
       "      <td>$80,000 - $110,000 a year</td>\n",
       "      <td>Data Scientist</td>\n",
       "    </tr>\n",
       "  </tbody>\n",
       "</table>\n",
       "</div>"
      ],
      "text/plain": [
       "      location                company                      salary  \\\n",
       "0  Chicago, IL     Jobspring Partners  $170,000 - $220,000 a year   \n",
       "1  Chicago, IL  Workbridge Associates  $130,000 - $180,000 a year   \n",
       "2  Chicago, IL       All-In Analytics  $120,000 - $130,000 a year   \n",
       "3  Chicago, IL  Workbridge Associates   $80,000 - $110,000 a year   \n",
       "4  Chicago, IL  Workbridge Associates   $80,000 - $110,000 a year   \n",
       "\n",
       "                             job_title  \n",
       "0  Principal Machine Learning Engineer  \n",
       "1           Machine Learning Architect  \n",
       "2         Sr. Model Validation Analyst  \n",
       "3     Data Engineer (C#, Azure, NoSQL)  \n",
       "4                       Data Scientist  "
      ]
     },
     "execution_count": 42,
     "metadata": {},
     "output_type": "execute_result"
    }
   ],
   "source": [
    "df.head()"
   ]
  },
  {
   "cell_type": "code",
   "execution_count": 43,
   "metadata": {},
   "outputs": [],
   "source": [
    "# splitting location into city and state\n",
    "df = df.join(df['location'].str.split(',', 1, expand=True).rename(columns={0:'city', 1:'state'}))"
   ]
  },
  {
   "cell_type": "code",
   "execution_count": 44,
   "metadata": {},
   "outputs": [
    {
     "data": {
      "text/plain": [
       "array([' IL', ' IL 60601 (Loop area)', ' IL 60654 (Loop area)',\n",
       "       ' IL 60605 (Near South Side area)', ' GA',\n",
       "       ' GA 30303 (Five Points area)', ' CA', ' CA 92121', ' CO', ' PA',\n",
       "       ' TX', ' TX 75024', ' TX 75219 (Oak Lawn area)', ' TX 75086',\n",
       "       ' TX 75051', ' TX 78759 (Arboretum area)',\n",
       "       ' TX 78758 (North Austin area)', ' TX 78731', ' AZ',\n",
       "       ' AZ 85251 (South Scottsdale area)', ' TX 77002 (Downtown area)',\n",
       "       ' TX 77032', ' WA 98052', ' WA', ' WA 98004 (Downtown area)',\n",
       "       ' WA 98332', ' WA 98109 (Westlake area)', ' MA',\n",
       "       ' MA 02116 (South End area)', ' OR',\n",
       "       ' CA 94108 (Financial District area)',\n",
       "       ' CA 94103 (South Of Market area)',\n",
       "       ' CA 94607 (Acorn-Acorn Industrial area)', ' CA 94080',\n",
       "       ' CA 94107 (South Of Market area)', ' CA 94066',\n",
       "       ' CA 94114 (Castro-Upper Market area)', ' FL',\n",
       "       ' FL 33315 (River Oaks area)', ' DE',\n",
       "       ' PA 19147 (Wharton-Hawthorne-Bella Vista area)',\n",
       "       ' PA 19103 (Belmont area)', ' PA 19107 (City Center East area)',\n",
       "       ' CA 91010', ' CA 90066', ' CA 90036', ' CA 90240', ' CA 90001',\n",
       "       ' NY', ' NY 10041 (Financial District area)', None,\n",
       "       ' NY 10017 (Midtown area)', ' NY 10154 (Midtown area)',\n",
       "       ' NY 11957'], dtype=object)"
      ]
     },
     "execution_count": 44,
     "metadata": {},
     "output_type": "execute_result"
    }
   ],
   "source": [
    "df.state.unique()"
   ]
  },
  {
   "cell_type": "code",
   "execution_count": 45,
   "metadata": {},
   "outputs": [
    {
     "data": {
      "text/plain": [
       "array(['IL', 'GA', 'CA', 'CO', 'PA', 'TX', 'AZ', 'WA', 'MA', 'OR', 'FL',\n",
       "       'DE', 'NY', None], dtype=object)"
      ]
     },
     "execution_count": 45,
     "metadata": {},
     "output_type": "execute_result"
    }
   ],
   "source": [
    "# cleaning the state column of the area information and the spaces.\n",
    "df.state = df.state.str.slice(start=0, stop=3)\n",
    "df.state = df.state.str.strip(' ')\n",
    "df.state.unique()"
   ]
  },
  {
   "cell_type": "markdown",
   "metadata": {},
   "source": [
    "<b>NOTE:</b> 2 New York entires has 'New York State' as the city and thus the value for State column for these entries is None. I'll replace the city with New York and the column values with NY before I continue with the further cleaning."
   ]
  },
  {
   "cell_type": "code",
   "execution_count": 46,
   "metadata": {},
   "outputs": [
    {
     "data": {
      "text/plain": [
       "CA    56\n",
       "TX    43\n",
       "NY    25\n",
       "IL    25\n",
       "PA    18\n",
       "MA    18\n",
       "FL    14\n",
       "WA    11\n",
       "CO     6\n",
       "GA     6\n",
       "AZ     4\n",
       "DE     2\n",
       "OR     2\n",
       "Name: state, dtype: int64"
      ]
     },
     "execution_count": 46,
     "metadata": {},
     "output_type": "execute_result"
    }
   ],
   "source": [
    "df.state = df['state'].fillna('NY')\n",
    "df.state.value_counts()"
   ]
  },
  {
   "cell_type": "code",
   "execution_count": 47,
   "metadata": {},
   "outputs": [],
   "source": [
    "# combining the small areas with the bigger cities nearby\n",
    "citydict = {'Plano': 'Dallas', \n",
    "            'Kennesaw': 'Atlanta', \n",
    "            'League City': 'Houston', \n",
    "            'Alpharetta':'Atlanta',\n",
    "            'Broomfield':'Denver',\n",
    "            'Commerce': 'Los Angeles',\n",
    "            'Englewood': 'Denver',\n",
    "            'Emeryville': 'San Francisco',\n",
    "            'Saint Paul': 'Minneapolis',\n",
    "            'Jonesboro': 'Atlanta',\n",
    "            'Wilmington': 'Philadelphia',\n",
    "            'Anaheim': 'Los Angeles',\n",
    "            'Duluth': 'Atlanta',\n",
    "            'Rensselaer': 'Albany',\n",
    "            'Richardson': 'Dallas',\n",
    "            'Playa Vista': 'Los Angeles',\n",
    "            'Mount Laurel': 'Philadelphia',\n",
    "            'Spring': 'Houston',\n",
    "            'Tempe': 'Tuscon',\n",
    "            'Belmont': 'San Francisco',\n",
    "            'South San Francisco': 'San Francisco',\n",
    "            'Los Angeles County': 'Los Angeles',\n",
    "            'Oak Brook': 'Chicago',\n",
    "            'Conshohocken': 'Philadelphia',\n",
    "            'El Segundo': 'Los Angeles',\n",
    "            'Irving': 'Dallas',\n",
    "            'Santa Monica': 'Los Angeles',\n",
    "            'Arlington': 'Dallas',\n",
    "            'Lisle': 'Chicago',\n",
    "            'Stony Brook': 'New York',\n",
    "            'Bothell': 'Seattle',\n",
    "            'Lakewood': 'Denver',\n",
    "            'Venice': 'Los Angeles',\n",
    "            'Oakland': 'San Francisco',\n",
    "            'Berkeley': 'San Francisco',\n",
    "            'Redwood City': 'San Francisco',\n",
    "            'Beaverton': 'Portland',\n",
    "            'Scottsdale': 'Phoenix',\n",
    "            'Redmond': 'Seattle',\n",
    "            'Bellevue': 'Seattle',\n",
    "            'Coral Gables': 'Miami',\n",
    "            'Manhattan': 'New York',\n",
    "            'Queens': 'New York',\n",
    "            'New York State': 'Albany',\n",
    "            'Orient': 'New York',\n",
    "            'Fort Washington': 'Philadelphia',\n",
    "            'Grand Prairie': 'Dallas',\n",
    "            'Gig Harbor': 'Seattle',\n",
    "            'Evanston': 'Chicago',\n",
    "            'Oakbrook Terrace': 'Chicago',\n",
    "            'Fort Gillem': 'Atlanta',\n",
    "            'Aventura': 'Miami',\n",
    "            'Fort Lauderdale': 'Miami',\n",
    "            'Buckley AFB': 'Denver',\n",
    "            'Glendale': 'Denver',\n",
    "            'Cypress':'Long Beach',\n",
    "            'Downey': 'Long Beach',\n",
    "            'Duarte': 'Los Angeles',\n",
    "            'Encinitas': 'San Diego',\n",
    "            'Pasadena': 'Los Angeles',\n",
    "            'Redondo Beach': 'Long Beach',\n",
    "            'San Bruno':'San Francisco',\n",
    "            'San Mateo':'San Francisco',\n",
    "            'Cambridge': 'Boston',\n",
    "            'Tuscon': 'Phoenix' \n",
    "           }\n",
    "\n",
    "def replacecity(x):\n",
    "    if x in citydict.keys():\n",
    "        truecity = citydict[x] \n",
    "    else:\n",
    "        truecity = x\n",
    "    return truecity\n",
    "\n",
    "df['city'] = df['city'].map(replacecity)"
   ]
  },
  {
   "cell_type": "code",
   "execution_count": 48,
   "metadata": {},
   "outputs": [
    {
     "data": {
      "text/plain": [
       "state  city         \n",
       "AZ     Phoenix           3\n",
       "       Tuscon            1\n",
       "CA     Long Beach        5\n",
       "       Los Angeles      10\n",
       "       San Diego        10\n",
       "       San Francisco    31\n",
       "CO     Boulder           1\n",
       "       Denver            5\n",
       "DE     Philadelphia      2\n",
       "FL     Miami            14\n",
       "GA     Atlanta           6\n",
       "IL     Chicago          25\n",
       "MA     Boston           18\n",
       "NY     Albany            7\n",
       "       New York         18\n",
       "OR     Portland          2\n",
       "PA     Philadelphia     14\n",
       "       Pittsburgh        4\n",
       "TX     Austin           12\n",
       "       Dallas           11\n",
       "       Houston          20\n",
       "WA     Seattle          11\n",
       "Name: city, dtype: int64"
      ]
     },
     "execution_count": 48,
     "metadata": {},
     "output_type": "execute_result"
    }
   ],
   "source": [
    "pd.set_option('display.max_rows',None)\n",
    "df.groupby(['state','city'])['city'].size()"
   ]
  },
  {
   "cell_type": "code",
   "execution_count": 49,
   "metadata": {},
   "outputs": [
    {
     "data": {
      "text/plain": [
       "array(['IL', 'GA', 'CA', 'CO', 'PA', 'TX', 'AZ', 'WA', 'MA', 'OR', 'FL',\n",
       "       'NY'], dtype=object)"
      ]
     },
     "execution_count": 49,
     "metadata": {},
     "output_type": "execute_result"
    }
   ],
   "source": [
    "df.state = df.state.str.replace('DE', 'PA')\n",
    "df.state.unique()"
   ]
  },
  {
   "cell_type": "markdown",
   "metadata": {
    "focus": false,
    "id": "7d4bc860-b214-4f75-9cd0-b234830b1ec2"
   },
   "source": [
    "#### Write a function that takes a salary string and converts it to a number, averaging a salary range if necessary."
   ]
  },
  {
   "cell_type": "code",
   "execution_count": 50,
   "metadata": {
    "focus": false,
    "id": "a0f701e0-80bd-40ba-9101-4535860c0968"
   },
   "outputs": [],
   "source": [
    "## YOUR CODE HERE\n",
    "def clean_salary(df, column):\n",
    "    \n",
    "# removing a year, (Indeed est.), $ strings from the final data points\n",
    "    str_list = ['a year', '(Indeed est.)', '$']\n",
    "    for i in str_list:\n",
    "        df[column] = df[column].map(lambda x: x.replace(i, ''))\n",
    "\n",
    "# Splitting the range of values \n",
    "    df = df.join(df[column].str.split('-', 1, expand=True).rename(columns={0:'lowest', 1:'highest'}))\n",
    "\n",
    "# removing commas \n",
    "    df['lowest'] = df['lowest'].str.replace(',', '')\n",
    "    df['highest'] = df['highest'].str.replace(',', '')\n",
    "\n",
    "# checking for the missing values\n",
    "    if df['lowest'].isna().sum()> 0:\n",
    "        df['lowest'] = df['lowest'].fillna(0)\n",
    "    elif df['highest'].isna().sum()>0:\n",
    "        df['highest'] = df['highest'].fillna(0)\n",
    "\n",
    "# converting them to a numeric data type\n",
    "    df.lowest = df.lowest.astype(int)\n",
    "    df.highest = df.highest.astype(int)\n",
    "\n",
    "# assigning the mean of the salary range back to the salary column\n",
    "    df[column] = df[['lowest', 'highest']].mean(axis=1)\n",
    "    return df[column]"
   ]
  },
  {
   "cell_type": "code",
   "execution_count": 51,
   "metadata": {},
   "outputs": [
    {
     "data": {
      "text/html": [
       "<div>\n",
       "<style scoped>\n",
       "    .dataframe tbody tr th:only-of-type {\n",
       "        vertical-align: middle;\n",
       "    }\n",
       "\n",
       "    .dataframe tbody tr th {\n",
       "        vertical-align: top;\n",
       "    }\n",
       "\n",
       "    .dataframe thead th {\n",
       "        text-align: right;\n",
       "    }\n",
       "</style>\n",
       "<table border=\"1\" class=\"dataframe\">\n",
       "  <thead>\n",
       "    <tr style=\"text-align: right;\">\n",
       "      <th></th>\n",
       "      <th>location</th>\n",
       "      <th>company</th>\n",
       "      <th>salary</th>\n",
       "      <th>job_title</th>\n",
       "      <th>city</th>\n",
       "      <th>state</th>\n",
       "    </tr>\n",
       "  </thead>\n",
       "  <tbody>\n",
       "    <tr>\n",
       "      <th>0</th>\n",
       "      <td>Chicago, IL</td>\n",
       "      <td>Jobspring Partners</td>\n",
       "      <td>195000.0</td>\n",
       "      <td>Principal Machine Learning Engineer</td>\n",
       "      <td>Chicago</td>\n",
       "      <td>IL</td>\n",
       "    </tr>\n",
       "    <tr>\n",
       "      <th>1</th>\n",
       "      <td>Chicago, IL</td>\n",
       "      <td>Workbridge Associates</td>\n",
       "      <td>155000.0</td>\n",
       "      <td>Machine Learning Architect</td>\n",
       "      <td>Chicago</td>\n",
       "      <td>IL</td>\n",
       "    </tr>\n",
       "    <tr>\n",
       "      <th>2</th>\n",
       "      <td>Chicago, IL</td>\n",
       "      <td>All-In Analytics</td>\n",
       "      <td>125000.0</td>\n",
       "      <td>Sr. Model Validation Analyst</td>\n",
       "      <td>Chicago</td>\n",
       "      <td>IL</td>\n",
       "    </tr>\n",
       "    <tr>\n",
       "      <th>3</th>\n",
       "      <td>Chicago, IL</td>\n",
       "      <td>Workbridge Associates</td>\n",
       "      <td>95000.0</td>\n",
       "      <td>Data Engineer (C#, Azure, NoSQL)</td>\n",
       "      <td>Chicago</td>\n",
       "      <td>IL</td>\n",
       "    </tr>\n",
       "    <tr>\n",
       "      <th>4</th>\n",
       "      <td>Chicago, IL</td>\n",
       "      <td>Workbridge Associates</td>\n",
       "      <td>95000.0</td>\n",
       "      <td>Data Scientist</td>\n",
       "      <td>Chicago</td>\n",
       "      <td>IL</td>\n",
       "    </tr>\n",
       "  </tbody>\n",
       "</table>\n",
       "</div>"
      ],
      "text/plain": [
       "      location                company    salary  \\\n",
       "0  Chicago, IL     Jobspring Partners  195000.0   \n",
       "1  Chicago, IL  Workbridge Associates  155000.0   \n",
       "2  Chicago, IL       All-In Analytics  125000.0   \n",
       "3  Chicago, IL  Workbridge Associates   95000.0   \n",
       "4  Chicago, IL  Workbridge Associates   95000.0   \n",
       "\n",
       "                             job_title     city state  \n",
       "0  Principal Machine Learning Engineer  Chicago    IL  \n",
       "1           Machine Learning Architect  Chicago    IL  \n",
       "2         Sr. Model Validation Analyst  Chicago    IL  \n",
       "3     Data Engineer (C#, Azure, NoSQL)  Chicago    IL  \n",
       "4                       Data Scientist  Chicago    IL  "
      ]
     },
     "execution_count": 51,
     "metadata": {},
     "output_type": "execute_result"
    }
   ],
   "source": [
    "df.salary = clean_salary(df, 'salary')\n",
    "df.head()"
   ]
  },
  {
   "cell_type": "markdown",
   "metadata": {
    "focus": false,
    "id": "43e71edd-210e-42b1-9336-70a931f048af"
   },
   "source": [
    "### Save your results as a CSV"
   ]
  },
  {
   "cell_type": "markdown",
   "metadata": {},
   "source": [
    "It has already been saved while scraping."
   ]
  },
  {
   "cell_type": "markdown",
   "metadata": {},
   "source": [
    "<b>EXPLORATIVE ANALYSES</b>"
   ]
  },
  {
   "cell_type": "code",
   "execution_count": 52,
   "metadata": {},
   "outputs": [
    {
     "data": {
      "text/html": [
       "<div>\n",
       "<style scoped>\n",
       "    .dataframe tbody tr th:only-of-type {\n",
       "        vertical-align: middle;\n",
       "    }\n",
       "\n",
       "    .dataframe tbody tr th {\n",
       "        vertical-align: top;\n",
       "    }\n",
       "\n",
       "    .dataframe thead th {\n",
       "        text-align: right;\n",
       "    }\n",
       "</style>\n",
       "<table border=\"1\" class=\"dataframe\">\n",
       "  <thead>\n",
       "    <tr style=\"text-align: right;\">\n",
       "      <th></th>\n",
       "      <th>salary</th>\n",
       "    </tr>\n",
       "  </thead>\n",
       "  <tbody>\n",
       "    <tr>\n",
       "      <th>count</th>\n",
       "      <td>230.000000</td>\n",
       "    </tr>\n",
       "    <tr>\n",
       "      <th>mean</th>\n",
       "      <td>98885.147826</td>\n",
       "    </tr>\n",
       "    <tr>\n",
       "      <th>std</th>\n",
       "      <td>43307.160364</td>\n",
       "    </tr>\n",
       "    <tr>\n",
       "      <th>min</th>\n",
       "      <td>20000.000000</td>\n",
       "    </tr>\n",
       "    <tr>\n",
       "      <th>25%</th>\n",
       "      <td>67687.000000</td>\n",
       "    </tr>\n",
       "    <tr>\n",
       "      <th>50%</th>\n",
       "      <td>97436.000000</td>\n",
       "    </tr>\n",
       "    <tr>\n",
       "      <th>75%</th>\n",
       "      <td>127875.000000</td>\n",
       "    </tr>\n",
       "    <tr>\n",
       "      <th>max</th>\n",
       "      <td>250000.000000</td>\n",
       "    </tr>\n",
       "  </tbody>\n",
       "</table>\n",
       "</div>"
      ],
      "text/plain": [
       "              salary\n",
       "count     230.000000\n",
       "mean    98885.147826\n",
       "std     43307.160364\n",
       "min     20000.000000\n",
       "25%     67687.000000\n",
       "50%     97436.000000\n",
       "75%    127875.000000\n",
       "max    250000.000000"
      ]
     },
     "execution_count": 52,
     "metadata": {},
     "output_type": "execute_result"
    }
   ],
   "source": [
    "df.describe()"
   ]
  },
  {
   "cell_type": "code",
   "execution_count": 53,
   "metadata": {},
   "outputs": [
    {
     "data": {
      "text/plain": [
       "97436.0"
      ]
     },
     "execution_count": 53,
     "metadata": {},
     "output_type": "execute_result"
    }
   ],
   "source": [
    "df.salary.median()"
   ]
  },
  {
   "cell_type": "markdown",
   "metadata": {},
   "source": [
    "As the below distribution plot indicates, salary variable has a fairly normally distributed with a mean of 98885.1 and median of 97436.0, although a few high salaries on the upper end of the distribution seem to gives it a little positive skew. "
   ]
  },
  {
   "cell_type": "code",
   "execution_count": 54,
   "metadata": {},
   "outputs": [
    {
     "data": {
      "image/png": "[encoded data removed]",
      "text/plain": [
       "<matplotlib.figure.Figure at 0x1c0fd36a58>"
      ]
     },
     "metadata": {
      "image/png": {
       "height": 375,
       "width": 522
      }
     },
     "output_type": "display_data"
    }
   ],
   "source": [
    "sns.set_palette(sns.diverging_palette(220, 20, n=7))\n",
    "sns.set(color_codes=True,rc={\"figure.figsize\": (8, 6), 'grid.color': '0.9'}, palette = 'dark',\n",
    "        style = 'whitegrid', font_scale = 1.2)\n",
    "sns.distplot(df['salary'], hist=True, kde=True);\n"
   ]
  },
  {
   "cell_type": "markdown",
   "metadata": {},
   "source": [
    "Below plots represent the number of entries and the mean salary distributions of each state, respectively. According to the plots, NY and TX has more observations in this dataset. When we look at the bar plot on the right, however, it's very clear that the jobs from WA state has very high salaries within this dataset which reflects on the average salary distribution. \n",
    "\n",
    "On the other hand only 4 state average salaries seem to be over the median salary score. These states are IL, CA, WA, MA."
   ]
  },
  {
   "cell_type": "code",
   "execution_count": 56,
   "metadata": {},
   "outputs": [],
   "source": [
    "import matplotlib.pyplot as plt"
   ]
  },
  {
   "cell_type": "code",
   "execution_count": 57,
   "metadata": {},
   "outputs": [
    {
     "data": {
      "image/png": "[encoded data removed]",
      "text/plain": [
       "<matplotlib.figure.Figure at 0x1c0f182eb8>"
      ]
     },
     "metadata": {
      "image/png": {
       "height": 592,
       "width": 1174
      }
     },
     "output_type": "display_data"
    }
   ],
   "source": [
    "c_palette = sns.cubehelix_palette(8, start=.5, rot=-.75)\n",
    "sns.set(style=\"whitegrid\", color_codes=True, font_scale=1.2)\n",
    "fig, ax = plt.subplots(nrows=1, ncols=2, figsize=(20,10))\n",
    "ax1 = ax[0]\n",
    "ax2 = ax[1]\n",
    "sns.countplot(y = 'state', orient=\"h\", data=df, palette='GnBu_d', ax=ax1);\n",
    "sns.barplot(y = 'state',  x = 'salary', orient=\"h\", data=df, palette=c_palette, ax=ax2);"
   ]
  },
  {
   "cell_type": "markdown",
   "metadata": {},
   "source": [
    "I have generated the same plots for the cities as well in order to see how different cities in the above states distributed with the salary average. As can be seen below, San Francisco has the most data points followed by Chicago. \n",
    "As expected Seattle has a very close mean to San Francisco salary mean, followed by Boston, Chicago and New York.\n",
    "\n",
    "As there's more variation in the average salaries of the cities in comparison to the state salaries, I'll be using cities as the location variable of my analyses. I think it's more interesting to see how different cities will perform within a model to predict higher salaries."
   ]
  },
  {
   "cell_type": "code",
   "execution_count": 58,
   "metadata": {},
   "outputs": [
    {
     "data": {
      "image/png": "[encoded data removed]",
      "text/plain": [
       "<matplotlib.figure.Figure at 0x1c0f1824a8>"
      ]
     },
     "metadata": {
      "image/png": {
       "height": 592,
       "width": 1248
      }
     },
     "output_type": "display_data"
    }
   ],
   "source": [
    "fig, ax = plt.subplots(nrows=1, ncols=2, figsize=(20,10))\n",
    "ax1 = ax[0]\n",
    "ax2 = ax[1]\n",
    "sns.countplot(y = 'city', orient=\"h\", data=df, palette='GnBu_d', ax=ax1);\n",
    "sns.barplot(y = 'city',  x = 'salary', orient=\"h\", data=df, palette=c_palette, ax=ax2);"
   ]
  },
  {
   "cell_type": "markdown",
   "metadata": {
    "focus": false,
    "id": "04563b69-f7b6-466f-9d65-fc62c9ddee6a"
   },
   "source": [
    "## QUESTION 2: Factors that distinguish job category\n",
    "\n",
    "Using the job postings you scraped for part 1 (or potentially new job postings from a second round of scraping), identify features in the data related to job postings that can distinguish job titles from each other. There are a variety of interesting ways you can frame the target variable, for example:\n",
    "- What components of a job posting distinguish data scientists from other data jobs?\n",
    "- What features are important for distinguishing junior vs. senior positions?\n",
    "- Do the requirements for titles vary significantly with industry (e.g. healthcare vs. government)?\n",
    "\n",
    "You may end up making multiple classification models to tackle different questions. Be sure to clearly explain your hypotheses and framing, any feature engineering, and what your target variables are. The type of classification model you choose is up to you. Be sure to interpret your results and evaluate your models' performance."
   ]
  },
  {
   "cell_type": "markdown",
   "metadata": {
    "focus": false,
    "id": "243e949e-2742-40af-872e-fec475fd306c"
   },
   "source": [
    "#### Load in the the data of scraped salaries"
   ]
  },
  {
   "cell_type": "code",
   "execution_count": 59,
   "metadata": {
    "scrolled": false
   },
   "outputs": [],
   "source": [
    "# Changing Sr. and Jr. titles to Senior and Junior\n",
    "df.job_title = df.job_title.str.replace('Sr.', 'Senior')\n",
    "df.job_title = df.job_title.str.replace('Jr.', 'Junior')"
   ]
  },
  {
   "cell_type": "code",
   "execution_count": 60,
   "metadata": {
    "focus": false,
    "id": "588f9845-6143-4bcc-bfd1-85d45b79303d",
    "scrolled": true
   },
   "outputs": [],
   "source": [
    "## Creating new features with the job title and the level of the position\n",
    "jobt = ['Data', 'Scientist', 'Analyst', 'Research', 'Engineer',  'Machine', 'Modeling', 'Statistic',\n",
    "        'Senior', 'Junior', 'Staff', 'Director', 'Manager', 'Intern', 'Principal']\n",
    "\n",
    "for i in jobt:\n",
    "    df['title_'+i] =np.ones\n",
    "    for j, m in enumerate(df.job_title.get_values()):\n",
    "\n",
    "        if i in m:       \n",
    "            df.loc[j,['title_'+i]] = 1\n",
    "        else:\n",
    "            df.loc[j,['title_'+i]] = 0"
   ]
  },
  {
   "cell_type": "code",
   "execution_count": 61,
   "metadata": {},
   "outputs": [
    {
     "data": {
      "text/html": [
       "<div>\n",
       "<style scoped>\n",
       "    .dataframe tbody tr th:only-of-type {\n",
       "        vertical-align: middle;\n",
       "    }\n",
       "\n",
       "    .dataframe tbody tr th {\n",
       "        vertical-align: top;\n",
       "    }\n",
       "\n",
       "    .dataframe thead th {\n",
       "        text-align: right;\n",
       "    }\n",
       "</style>\n",
       "<table border=\"1\" class=\"dataframe\">\n",
       "  <thead>\n",
       "    <tr style=\"text-align: right;\">\n",
       "      <th></th>\n",
       "      <th>location</th>\n",
       "      <th>company</th>\n",
       "      <th>salary</th>\n",
       "      <th>job_title</th>\n",
       "      <th>city</th>\n",
       "      <th>state</th>\n",
       "      <th>title_Data</th>\n",
       "      <th>title_Scientist</th>\n",
       "      <th>title_Analyst</th>\n",
       "      <th>title_Research</th>\n",
       "      <th>...</th>\n",
       "      <th>title_Machine</th>\n",
       "      <th>title_Modeling</th>\n",
       "      <th>title_Statistic</th>\n",
       "      <th>title_Senior</th>\n",
       "      <th>title_Junior</th>\n",
       "      <th>title_Staff</th>\n",
       "      <th>title_Director</th>\n",
       "      <th>title_Manager</th>\n",
       "      <th>title_Intern</th>\n",
       "      <th>title_Principal</th>\n",
       "    </tr>\n",
       "  </thead>\n",
       "  <tbody>\n",
       "    <tr>\n",
       "      <th>0</th>\n",
       "      <td>Chicago, IL</td>\n",
       "      <td>Jobspring Partners</td>\n",
       "      <td>195000.0</td>\n",
       "      <td>Principal Machine Learning Engineer</td>\n",
       "      <td>Chicago</td>\n",
       "      <td>IL</td>\n",
       "      <td>0</td>\n",
       "      <td>0</td>\n",
       "      <td>0</td>\n",
       "      <td>0</td>\n",
       "      <td>...</td>\n",
       "      <td>1</td>\n",
       "      <td>0</td>\n",
       "      <td>0</td>\n",
       "      <td>0</td>\n",
       "      <td>0</td>\n",
       "      <td>0</td>\n",
       "      <td>0</td>\n",
       "      <td>0</td>\n",
       "      <td>0</td>\n",
       "      <td>1</td>\n",
       "    </tr>\n",
       "    <tr>\n",
       "      <th>1</th>\n",
       "      <td>Chicago, IL</td>\n",
       "      <td>Workbridge Associates</td>\n",
       "      <td>155000.0</td>\n",
       "      <td>Machine Learning Architect</td>\n",
       "      <td>Chicago</td>\n",
       "      <td>IL</td>\n",
       "      <td>0</td>\n",
       "      <td>0</td>\n",
       "      <td>0</td>\n",
       "      <td>0</td>\n",
       "      <td>...</td>\n",
       "      <td>1</td>\n",
       "      <td>0</td>\n",
       "      <td>0</td>\n",
       "      <td>0</td>\n",
       "      <td>0</td>\n",
       "      <td>0</td>\n",
       "      <td>0</td>\n",
       "      <td>0</td>\n",
       "      <td>0</td>\n",
       "      <td>0</td>\n",
       "    </tr>\n",
       "    <tr>\n",
       "      <th>2</th>\n",
       "      <td>Chicago, IL</td>\n",
       "      <td>All-In Analytics</td>\n",
       "      <td>125000.0</td>\n",
       "      <td>Senior Model Validation Analyst</td>\n",
       "      <td>Chicago</td>\n",
       "      <td>IL</td>\n",
       "      <td>0</td>\n",
       "      <td>0</td>\n",
       "      <td>1</td>\n",
       "      <td>0</td>\n",
       "      <td>...</td>\n",
       "      <td>0</td>\n",
       "      <td>0</td>\n",
       "      <td>0</td>\n",
       "      <td>1</td>\n",
       "      <td>0</td>\n",
       "      <td>0</td>\n",
       "      <td>0</td>\n",
       "      <td>0</td>\n",
       "      <td>0</td>\n",
       "      <td>0</td>\n",
       "    </tr>\n",
       "    <tr>\n",
       "      <th>3</th>\n",
       "      <td>Chicago, IL</td>\n",
       "      <td>Workbridge Associates</td>\n",
       "      <td>95000.0</td>\n",
       "      <td>Data Engineer (C#, Azure, NoSQL)</td>\n",
       "      <td>Chicago</td>\n",
       "      <td>IL</td>\n",
       "      <td>1</td>\n",
       "      <td>0</td>\n",
       "      <td>0</td>\n",
       "      <td>0</td>\n",
       "      <td>...</td>\n",
       "      <td>0</td>\n",
       "      <td>0</td>\n",
       "      <td>0</td>\n",
       "      <td>0</td>\n",
       "      <td>0</td>\n",
       "      <td>0</td>\n",
       "      <td>0</td>\n",
       "      <td>0</td>\n",
       "      <td>0</td>\n",
       "      <td>0</td>\n",
       "    </tr>\n",
       "  </tbody>\n",
       "</table>\n",
       "<p>4 rows × 21 columns</p>\n",
       "</div>"
      ],
      "text/plain": [
       "      location                company    salary  \\\n",
       "0  Chicago, IL     Jobspring Partners  195000.0   \n",
       "1  Chicago, IL  Workbridge Associates  155000.0   \n",
       "2  Chicago, IL       All-In Analytics  125000.0   \n",
       "3  Chicago, IL  Workbridge Associates   95000.0   \n",
       "\n",
       "                             job_title     city state  title_Data  \\\n",
       "0  Principal Machine Learning Engineer  Chicago    IL           0   \n",
       "1           Machine Learning Architect  Chicago    IL           0   \n",
       "2      Senior Model Validation Analyst  Chicago    IL           0   \n",
       "3     Data Engineer (C#, Azure, NoSQL)  Chicago    IL           1   \n",
       "\n",
       "   title_Scientist  title_Analyst  title_Research       ...         \\\n",
       "0                0              0               0       ...          \n",
       "1                0              0               0       ...          \n",
       "2                0              1               0       ...          \n",
       "3                0              0               0       ...          \n",
       "\n",
       "   title_Machine  title_Modeling  title_Statistic  title_Senior  title_Junior  \\\n",
       "0              1               0                0             0             0   \n",
       "1              1               0                0             0             0   \n",
       "2              0               0                0             1             0   \n",
       "3              0               0                0             0             0   \n",
       "\n",
       "   title_Staff  title_Director  title_Manager  title_Intern  title_Principal  \n",
       "0            0               0              0             0                1  \n",
       "1            0               0              0             0                0  \n",
       "2            0               0              0             0                0  \n",
       "3            0               0              0             0                0  \n",
       "\n",
       "[4 rows x 21 columns]"
      ]
     },
     "execution_count": 61,
     "metadata": {},
     "output_type": "execute_result"
    }
   ],
   "source": [
    "df.head(4)"
   ]
  },
  {
   "cell_type": "markdown",
   "metadata": {
    "focus": false,
    "id": "c7631f51-07f2-4c79-a093-3e9bc7849a48"
   },
   "source": [
    "#### We want to predict a binary variable - whether the salary was low or high. Compute the median salary and create a new binary variable that is true when the salary is high (above the median).\n",
    "\n",
    "We could also perform Linear Regression (or any regression) to predict the salary value here. Instead, we are going to convert this into a _binary_ classification problem, by predicting two classes, HIGH vs LOW salary.\n",
    "\n",
    "While performing regression may be better, performing classification may help remove some of the noise of the extreme salaries. We don't have to choose the `median` as the splitting point - we could also split on the 75th percentile or any other reasonable breaking point.\n",
    "\n",
    "In fact, the ideal scenario may be to predict many levels of salaries."
   ]
  },
  {
   "cell_type": "code",
   "execution_count": 62,
   "metadata": {},
   "outputs": [
    {
     "data": {
      "text/plain": [
       "97436.0"
      ]
     },
     "execution_count": 62,
     "metadata": {},
     "output_type": "execute_result"
    }
   ],
   "source": [
    "# median of the salary variable\n",
    "med = df.salary.median()\n",
    "med"
   ]
  },
  {
   "cell_type": "code",
   "execution_count": 63,
   "metadata": {},
   "outputs": [
    {
     "data": {
      "text/plain": [
       "98885.14782608696"
      ]
     },
     "execution_count": 63,
     "metadata": {},
     "output_type": "execute_result"
    }
   ],
   "source": [
    "mean = df.salary.mean()\n",
    "mean"
   ]
  },
  {
   "cell_type": "code",
   "execution_count": 64,
   "metadata": {
    "focus": false,
    "id": "c20d2498-151c-44c3-a453-3a333c79a0ac",
    "scrolled": false
   },
   "outputs": [
    {
     "data": {
      "text/html": [
       "<div>\n",
       "<style scoped>\n",
       "    .dataframe tbody tr th:only-of-type {\n",
       "        vertical-align: middle;\n",
       "    }\n",
       "\n",
       "    .dataframe tbody tr th {\n",
       "        vertical-align: top;\n",
       "    }\n",
       "\n",
       "    .dataframe thead th {\n",
       "        text-align: right;\n",
       "    }\n",
       "</style>\n",
       "<table border=\"1\" class=\"dataframe\">\n",
       "  <thead>\n",
       "    <tr style=\"text-align: right;\">\n",
       "      <th></th>\n",
       "      <th>location</th>\n",
       "      <th>company</th>\n",
       "      <th>salary</th>\n",
       "      <th>job_title</th>\n",
       "      <th>city</th>\n",
       "      <th>state</th>\n",
       "      <th>title_Data</th>\n",
       "      <th>title_Scientist</th>\n",
       "      <th>title_Analyst</th>\n",
       "      <th>title_Research</th>\n",
       "      <th>...</th>\n",
       "      <th>title_Modeling</th>\n",
       "      <th>title_Statistic</th>\n",
       "      <th>title_Senior</th>\n",
       "      <th>title_Junior</th>\n",
       "      <th>title_Staff</th>\n",
       "      <th>title_Director</th>\n",
       "      <th>title_Manager</th>\n",
       "      <th>title_Intern</th>\n",
       "      <th>title_Principal</th>\n",
       "      <th>sal</th>\n",
       "    </tr>\n",
       "  </thead>\n",
       "  <tbody>\n",
       "    <tr>\n",
       "      <th>0</th>\n",
       "      <td>Chicago, IL</td>\n",
       "      <td>Jobspring Partners</td>\n",
       "      <td>195000.0</td>\n",
       "      <td>Principal Machine Learning Engineer</td>\n",
       "      <td>Chicago</td>\n",
       "      <td>IL</td>\n",
       "      <td>0</td>\n",
       "      <td>0</td>\n",
       "      <td>0</td>\n",
       "      <td>0</td>\n",
       "      <td>...</td>\n",
       "      <td>0</td>\n",
       "      <td>0</td>\n",
       "      <td>0</td>\n",
       "      <td>0</td>\n",
       "      <td>0</td>\n",
       "      <td>0</td>\n",
       "      <td>0</td>\n",
       "      <td>0</td>\n",
       "      <td>1</td>\n",
       "      <td>1</td>\n",
       "    </tr>\n",
       "    <tr>\n",
       "      <th>1</th>\n",
       "      <td>Chicago, IL</td>\n",
       "      <td>Workbridge Associates</td>\n",
       "      <td>155000.0</td>\n",
       "      <td>Machine Learning Architect</td>\n",
       "      <td>Chicago</td>\n",
       "      <td>IL</td>\n",
       "      <td>0</td>\n",
       "      <td>0</td>\n",
       "      <td>0</td>\n",
       "      <td>0</td>\n",
       "      <td>...</td>\n",
       "      <td>0</td>\n",
       "      <td>0</td>\n",
       "      <td>0</td>\n",
       "      <td>0</td>\n",
       "      <td>0</td>\n",
       "      <td>0</td>\n",
       "      <td>0</td>\n",
       "      <td>0</td>\n",
       "      <td>0</td>\n",
       "      <td>1</td>\n",
       "    </tr>\n",
       "    <tr>\n",
       "      <th>2</th>\n",
       "      <td>Chicago, IL</td>\n",
       "      <td>All-In Analytics</td>\n",
       "      <td>125000.0</td>\n",
       "      <td>Senior Model Validation Analyst</td>\n",
       "      <td>Chicago</td>\n",
       "      <td>IL</td>\n",
       "      <td>0</td>\n",
       "      <td>0</td>\n",
       "      <td>1</td>\n",
       "      <td>0</td>\n",
       "      <td>...</td>\n",
       "      <td>0</td>\n",
       "      <td>0</td>\n",
       "      <td>1</td>\n",
       "      <td>0</td>\n",
       "      <td>0</td>\n",
       "      <td>0</td>\n",
       "      <td>0</td>\n",
       "      <td>0</td>\n",
       "      <td>0</td>\n",
       "      <td>1</td>\n",
       "    </tr>\n",
       "    <tr>\n",
       "      <th>3</th>\n",
       "      <td>Chicago, IL</td>\n",
       "      <td>Workbridge Associates</td>\n",
       "      <td>95000.0</td>\n",
       "      <td>Data Engineer (C#, Azure, NoSQL)</td>\n",
       "      <td>Chicago</td>\n",
       "      <td>IL</td>\n",
       "      <td>1</td>\n",
       "      <td>0</td>\n",
       "      <td>0</td>\n",
       "      <td>0</td>\n",
       "      <td>...</td>\n",
       "      <td>0</td>\n",
       "      <td>0</td>\n",
       "      <td>0</td>\n",
       "      <td>0</td>\n",
       "      <td>0</td>\n",
       "      <td>0</td>\n",
       "      <td>0</td>\n",
       "      <td>0</td>\n",
       "      <td>0</td>\n",
       "      <td>0</td>\n",
       "    </tr>\n",
       "  </tbody>\n",
       "</table>\n",
       "<p>4 rows × 22 columns</p>\n",
       "</div>"
      ],
      "text/plain": [
       "      location                company    salary  \\\n",
       "0  Chicago, IL     Jobspring Partners  195000.0   \n",
       "1  Chicago, IL  Workbridge Associates  155000.0   \n",
       "2  Chicago, IL       All-In Analytics  125000.0   \n",
       "3  Chicago, IL  Workbridge Associates   95000.0   \n",
       "\n",
       "                             job_title     city state  title_Data  \\\n",
       "0  Principal Machine Learning Engineer  Chicago    IL           0   \n",
       "1           Machine Learning Architect  Chicago    IL           0   \n",
       "2      Senior Model Validation Analyst  Chicago    IL           0   \n",
       "3     Data Engineer (C#, Azure, NoSQL)  Chicago    IL           1   \n",
       "\n",
       "   title_Scientist  title_Analyst  title_Research ...   title_Modeling  \\\n",
       "0                0              0               0 ...                0   \n",
       "1                0              0               0 ...                0   \n",
       "2                0              1               0 ...                0   \n",
       "3                0              0               0 ...                0   \n",
       "\n",
       "   title_Statistic  title_Senior  title_Junior  title_Staff  title_Director  \\\n",
       "0                0             0             0            0               0   \n",
       "1                0             0             0            0               0   \n",
       "2                0             1             0            0               0   \n",
       "3                0             0             0            0               0   \n",
       "\n",
       "   title_Manager  title_Intern  title_Principal  sal  \n",
       "0              0             0                1    1  \n",
       "1              0             0                0    1  \n",
       "2              0             0                0    1  \n",
       "3              0             0                0    0  \n",
       "\n",
       "[4 rows x 22 columns]"
      ]
     },
     "execution_count": 64,
     "metadata": {},
     "output_type": "execute_result"
    }
   ],
   "source": [
    "## Creating a binary salary variable. 1 represents higher salaries whereas 0 represents the lower salaries\n",
    "df['sal'] = np.ones\n",
    "for m, j in enumerate(df.salary.get_values()):\n",
    "    if j < med:\n",
    "        df.loc[m,['sal']] = 0\n",
    "    else:\n",
    "        df.loc[m,['sal']] = 1\n",
    "df.head(4)"
   ]
  },
  {
   "cell_type": "markdown",
   "metadata": {
    "focus": false,
    "id": "a7afb2c0-d41e-4779-8216-91cd8dd4473f"
   },
   "source": [
    "#### Thought experiment: What is the baseline accuracy for this model?"
   ]
  },
  {
   "cell_type": "markdown",
   "metadata": {},
   "source": [
    "Baseline accuracy for this model is 0.5 which is no better than the random guess. In order for a prediction model to be deemed as good, we expect it to have a higher accuracy than the baseline and of course from the random guess."
   ]
  },
  {
   "cell_type": "code",
   "execution_count": 65,
   "metadata": {},
   "outputs": [
    {
     "data": {
      "text/plain": [
       "0.5"
      ]
     },
     "execution_count": 65,
     "metadata": {},
     "output_type": "execute_result"
    }
   ],
   "source": [
    "df.sal.mean()"
   ]
  },
  {
   "cell_type": "markdown",
   "metadata": {
    "focus": false,
    "id": "4fb29de2-5b98-474c-a4ad-5170b72b9aea"
   },
   "source": [
    "### Create a classification model to predict High/Low salary. \n",
    "\n",
    "\n",
    "#### Model based on location:\n",
    "\n",
    "- Start by ONLY using the location as a feature. \n",
    "- Use logistic regression with both statsmodels and sklearn.\n",
    "- Use a further classifier you find suitable.\n",
    "- Remember that scaling your features might be necessary.\n",
    "- Display the coefficients/feature importances and write a short summary of what they mean.\n",
    "\n",
    "#### Model taking into account job levels and categories:\n",
    "\n",
    "- Create a few new variables in your dataframe to represent interesting features of a job title.\n",
    "- For example, create a feature that represents whether 'Senior' is in the title or whether 'Manager' is in the title. \n",
    "- Incorporate other text features from the title or summary that you believe will predict the salary.\n",
    "- Then build new classification models including also those features. Do they add any value? \n",
    "- Tune your models by testing parameter ranges, regularization strengths, etc. Discuss how that affects your models. \n",
    "- Discuss model coefficients or feature importances as applicable.\n",
    "\n",
    "#### Model evaluation:\n",
    "\n",
    "Your boss would rather tell a client incorrectly that they would get a lower salary job than tell a client incorrectly that they would get a high salary job. Adjust one of your models to ease his mind, and explain what it is doing and any tradeoffs. \n",
    "\n",
    "\n",
    "- Use cross-validation to evaluate your models. \n",
    "- Evaluate the accuracy, AUC, precision and recall of the models. \n",
    "- Plot the ROC curve for at least one of your models.\n",
    "\n",
    "#### Bonus:\n",
    "\n",
    "- Answer the salary discussion by using your model to explain the tradeoffs between detecting high vs low salary positions. \n",
    "- Discuss the differences and explain when you want a high-recall or a high-precision model in this scenario.\n",
    "- Obtain the ROC curves for the different models you studied (at least the tuned model of each category) and compare."
   ]
  },
  {
   "cell_type": "markdown",
   "metadata": {},
   "source": [
    "<b>Proportions of higher salaries for each city</b>"
   ]
  },
  {
   "cell_type": "markdown",
   "metadata": {},
   "source": [
    "According to the below table and the corresponding factor plot, San Francisco has the higher proportion of the higher salaries in this dataset followed by Seattle, Atlanta, Chicago and Denver. I'll drop Houston from the analyses as it seems to be in the middle in terms of the high salary proportion to see how other cities are effecting the high salary in comparison to Houston."
   ]
  },
  {
   "cell_type": "code",
   "execution_count": 66,
   "metadata": {},
   "outputs": [
    {
     "data": {
      "text/html": [
       "<div>\n",
       "<style scoped>\n",
       "    .dataframe tbody tr th:only-of-type {\n",
       "        vertical-align: middle;\n",
       "    }\n",
       "\n",
       "    .dataframe tbody tr th {\n",
       "        vertical-align: top;\n",
       "    }\n",
       "\n",
       "    .dataframe thead th {\n",
       "        text-align: right;\n",
       "    }\n",
       "</style>\n",
       "<table border=\"1\" class=\"dataframe\">\n",
       "  <thead>\n",
       "    <tr style=\"text-align: right;\">\n",
       "      <th></th>\n",
       "      <th>sal</th>\n",
       "    </tr>\n",
       "    <tr>\n",
       "      <th>city</th>\n",
       "      <th></th>\n",
       "    </tr>\n",
       "  </thead>\n",
       "  <tbody>\n",
       "    <tr>\n",
       "      <th>San Francisco</th>\n",
       "      <td>0.870968</td>\n",
       "    </tr>\n",
       "    <tr>\n",
       "      <th>Seattle</th>\n",
       "      <td>0.818182</td>\n",
       "    </tr>\n",
       "    <tr>\n",
       "      <th>Atlanta</th>\n",
       "      <td>0.666667</td>\n",
       "    </tr>\n",
       "    <tr>\n",
       "      <th>Chicago</th>\n",
       "      <td>0.640000</td>\n",
       "    </tr>\n",
       "    <tr>\n",
       "      <th>Denver</th>\n",
       "      <td>0.600000</td>\n",
       "    </tr>\n",
       "    <tr>\n",
       "      <th>Boston</th>\n",
       "      <td>0.500000</td>\n",
       "    </tr>\n",
       "    <tr>\n",
       "      <th>Dallas</th>\n",
       "      <td>0.454545</td>\n",
       "    </tr>\n",
       "    <tr>\n",
       "      <th>Houston</th>\n",
       "      <td>0.450000</td>\n",
       "    </tr>\n",
       "    <tr>\n",
       "      <th>Philadelphia</th>\n",
       "      <td>0.437500</td>\n",
       "    </tr>\n",
       "    <tr>\n",
       "      <th>Austin</th>\n",
       "      <td>0.416667</td>\n",
       "    </tr>\n",
       "    <tr>\n",
       "      <th>Los Angeles</th>\n",
       "      <td>0.400000</td>\n",
       "    </tr>\n",
       "    <tr>\n",
       "      <th>San Diego</th>\n",
       "      <td>0.400000</td>\n",
       "    </tr>\n",
       "    <tr>\n",
       "      <th>Long Beach</th>\n",
       "      <td>0.400000</td>\n",
       "    </tr>\n",
       "    <tr>\n",
       "      <th>New York</th>\n",
       "      <td>0.388889</td>\n",
       "    </tr>\n",
       "    <tr>\n",
       "      <th>Albany</th>\n",
       "      <td>0.285714</td>\n",
       "    </tr>\n",
       "    <tr>\n",
       "      <th>Miami</th>\n",
       "      <td>0.142857</td>\n",
       "    </tr>\n",
       "    <tr>\n",
       "      <th>Pittsburgh</th>\n",
       "      <td>0.000000</td>\n",
       "    </tr>\n",
       "    <tr>\n",
       "      <th>Portland</th>\n",
       "      <td>0.000000</td>\n",
       "    </tr>\n",
       "    <tr>\n",
       "      <th>Phoenix</th>\n",
       "      <td>0.000000</td>\n",
       "    </tr>\n",
       "    <tr>\n",
       "      <th>Boulder</th>\n",
       "      <td>0.000000</td>\n",
       "    </tr>\n",
       "    <tr>\n",
       "      <th>Tuscon</th>\n",
       "      <td>0.000000</td>\n",
       "    </tr>\n",
       "  </tbody>\n",
       "</table>\n",
       "</div>"
      ],
      "text/plain": [
       "                    sal\n",
       "city                   \n",
       "San Francisco  0.870968\n",
       "Seattle        0.818182\n",
       "Atlanta        0.666667\n",
       "Chicago        0.640000\n",
       "Denver         0.600000\n",
       "Boston         0.500000\n",
       "Dallas         0.454545\n",
       "Houston        0.450000\n",
       "Philadelphia   0.437500\n",
       "Austin         0.416667\n",
       "Los Angeles    0.400000\n",
       "San Diego      0.400000\n",
       "Long Beach     0.400000\n",
       "New York       0.388889\n",
       "Albany         0.285714\n",
       "Miami          0.142857\n",
       "Pittsburgh     0.000000\n",
       "Portland       0.000000\n",
       "Phoenix        0.000000\n",
       "Boulder        0.000000\n",
       "Tuscon         0.000000"
      ]
     },
     "execution_count": 66,
     "metadata": {},
     "output_type": "execute_result"
    }
   ],
   "source": [
    "df.groupby('city')[['sal']].mean().sort_values(by='sal', ascending=False)"
   ]
  },
  {
   "cell_type": "code",
   "execution_count": 67,
   "metadata": {},
   "outputs": [
    {
     "data": {
      "image/png": "[encoded data removed]",
      "text/plain": [
       "<matplotlib.figure.Figure at 0x1c0ebaf0b8>"
      ]
     },
     "metadata": {
      "image/png": {
       "height": 467,
       "width": 626
      }
     },
     "output_type": "display_data"
    }
   ],
   "source": [
    "sns.factorplot(x='city', y='sal', data=df, kind='bar', \n",
    "               palette=c_palette, size=6, aspect=1.5).set_xticklabels(rotation=45, horizontalalignment='right');"
   ]
  },
  {
   "cell_type": "markdown",
   "metadata": {},
   "source": [
    "<b>LOGISTIC REGRESSION WITH STATSMODELS</b>"
   ]
  },
  {
   "cell_type": "code",
   "execution_count": 68,
   "metadata": {},
   "outputs": [
    {
     "data": {
      "text/html": [
       "<table class=\"simpletable\">\n",
       "<caption>Logit Regression Results</caption>\n",
       "<tr>\n",
       "  <th>Dep. Variable:</th>        <td>sal</td>       <th>  No. Observations:  </th>  <td>   230</td>  \n",
       "</tr>\n",
       "<tr>\n",
       "  <th>Model:</th>               <td>Logit</td>      <th>  Df Residuals:      </th>  <td>   209</td>  \n",
       "</tr>\n",
       "<tr>\n",
       "  <th>Method:</th>               <td>MLE</td>       <th>  Df Model:          </th>  <td>    20</td>  \n",
       "</tr>\n",
       "<tr>\n",
       "  <th>Date:</th>          <td>Tue, 08 May 2018</td> <th>  Pseudo R-squ.:     </th>  <td>0.1697</td>  \n",
       "</tr>\n",
       "<tr>\n",
       "  <th>Time:</th>              <td>18:06:02</td>     <th>  Log-Likelihood:    </th> <td> -132.37</td> \n",
       "</tr>\n",
       "<tr>\n",
       "  <th>converged:</th>           <td>True</td>       <th>  LL-Null:           </th> <td> -159.42</td> \n",
       "</tr>\n",
       "<tr>\n",
       "  <th> </th>                      <td> </td>        <th>  LLR p-value:       </th> <td>5.588e-05</td>\n",
       "</tr>\n",
       "</table>\n",
       "<table class=\"simpletable\">\n",
       "<tr>\n",
       "                         <td></td>                           <th>coef</th>     <th>std err</th>      <th>z</th>      <th>P>|z|</th>  <th>[0.025</th>    <th>0.975]</th>  \n",
       "</tr>\n",
       "<tr>\n",
       "  <th>Intercept</th>                                      <td>   -0.1999</td> <td>    0.449</td> <td>   -0.445</td> <td> 0.657</td> <td>   -1.081</td> <td>    0.681</td>\n",
       "</tr>\n",
       "<tr>\n",
       "  <th>C(city, Treatment('Houston'))[T.Albany]</th>        <td>   -0.7169</td> <td>    0.950</td> <td>   -0.755</td> <td> 0.450</td> <td>   -2.579</td> <td>    1.145</td>\n",
       "</tr>\n",
       "<tr>\n",
       "  <th>C(city, Treatment('Houston'))[T.Atlanta]</th>       <td>    0.8927</td> <td>    0.976</td> <td>    0.915</td> <td> 0.360</td> <td>   -1.020</td> <td>    2.805</td>\n",
       "</tr>\n",
       "<tr>\n",
       "  <th>C(city, Treatment('Houston'))[T.Austin]</th>        <td>   -0.1367</td> <td>    0.738</td> <td>   -0.185</td> <td> 0.853</td> <td>   -1.583</td> <td>    1.310</td>\n",
       "</tr>\n",
       "<tr>\n",
       "  <th>C(city, Treatment('Houston'))[T.Boston]</th>        <td>    0.2001</td> <td>    0.651</td> <td>    0.307</td> <td> 0.759</td> <td>   -1.076</td> <td>    1.477</td>\n",
       "</tr>\n",
       "<tr>\n",
       "  <th>C(city, Treatment('Houston'))[T.Boulder]</th>       <td>  -11.0619</td> <td>  278.918</td> <td>   -0.040</td> <td> 0.968</td> <td> -557.730</td> <td>  535.606</td>\n",
       "</tr>\n",
       "<tr>\n",
       "  <th>C(city, Treatment('Houston'))[T.Chicago]</th>       <td>    0.7755</td> <td>    0.613</td> <td>    1.265</td> <td> 0.206</td> <td>   -0.426</td> <td>    1.977</td>\n",
       "</tr>\n",
       "<tr>\n",
       "  <th>C(city, Treatment('Houston'))[T.Dallas]</th>        <td>    0.0175</td> <td>    0.754</td> <td>    0.023</td> <td> 0.981</td> <td>   -1.461</td> <td>    1.496</td>\n",
       "</tr>\n",
       "<tr>\n",
       "  <th>C(city, Treatment('Houston'))[T.Denver]</th>        <td>    0.6041</td> <td>    1.017</td> <td>    0.594</td> <td> 0.553</td> <td>   -1.390</td> <td>    2.598</td>\n",
       "</tr>\n",
       "<tr>\n",
       "  <th>C(city, Treatment('Houston'))[T.Long Beach]</th>    <td>   -0.2052</td> <td>    1.017</td> <td>   -0.202</td> <td> 0.840</td> <td>   -2.199</td> <td>    1.789</td>\n",
       "</tr>\n",
       "<tr>\n",
       "  <th>C(city, Treatment('Houston'))[T.Los Angeles]</th>   <td>   -0.2059</td> <td>    0.787</td> <td>   -0.262</td> <td> 0.794</td> <td>   -1.748</td> <td>    1.336</td>\n",
       "</tr>\n",
       "<tr>\n",
       "  <th>C(city, Treatment('Houston'))[T.Miami]</th>         <td>   -1.5922</td> <td>    0.886</td> <td>   -1.797</td> <td> 0.072</td> <td>   -3.329</td> <td>    0.145</td>\n",
       "</tr>\n",
       "<tr>\n",
       "  <th>C(city, Treatment('Houston'))[T.New York]</th>      <td>   -0.2520</td> <td>    0.660</td> <td>   -0.382</td> <td> 0.703</td> <td>   -1.546</td> <td>    1.042</td>\n",
       "</tr>\n",
       "<tr>\n",
       "  <th>C(city, Treatment('Houston'))[T.Philadelphia]</th>  <td>   -0.0517</td> <td>    0.675</td> <td>   -0.077</td> <td> 0.939</td> <td>   -1.375</td> <td>    1.272</td>\n",
       "</tr>\n",
       "<tr>\n",
       "  <th>C(city, Treatment('Houston'))[T.Phoenix]</th>       <td>  -15.7330</td> <td> 1664.258</td> <td>   -0.009</td> <td> 0.992</td> <td>-3277.619</td> <td> 3246.153</td>\n",
       "</tr>\n",
       "<tr>\n",
       "  <th>C(city, Treatment('Houston'))[T.Pittsburgh]</th>    <td>  -16.6916</td> <td> 2327.592</td> <td>   -0.007</td> <td> 0.994</td> <td>-4578.688</td> <td> 4545.305</td>\n",
       "</tr>\n",
       "<tr>\n",
       "  <th>C(city, Treatment('Houston'))[T.Portland]</th>      <td>  -14.1433</td> <td>  920.587</td> <td>   -0.015</td> <td> 0.988</td> <td>-1818.460</td> <td> 1790.173</td>\n",
       "</tr>\n",
       "<tr>\n",
       "  <th>C(city, Treatment('Houston'))[T.San Diego]</th>     <td>   -0.2059</td> <td>    0.787</td> <td>   -0.262</td> <td> 0.794</td> <td>   -1.748</td> <td>    1.336</td>\n",
       "</tr>\n",
       "<tr>\n",
       "  <th>C(city, Treatment('Houston'))[T.San Francisco]</th> <td>    2.1093</td> <td>    0.699</td> <td>    3.016</td> <td> 0.003</td> <td>    0.739</td> <td>    3.480</td>\n",
       "</tr>\n",
       "<tr>\n",
       "  <th>C(city, Treatment('Houston'))[T.Seattle]</th>       <td>    1.7029</td> <td>    0.902</td> <td>    1.889</td> <td> 0.059</td> <td>   -0.064</td> <td>    3.470</td>\n",
       "</tr>\n",
       "<tr>\n",
       "  <th>C(city, Treatment('Houston'))[T.Tuscon]</th>        <td>  -11.0619</td> <td>  278.918</td> <td>   -0.040</td> <td> 0.968</td> <td> -557.730</td> <td>  535.606</td>\n",
       "</tr>\n",
       "</table>"
      ],
      "text/plain": [
       "<class 'statsmodels.iolib.summary.Summary'>\n",
       "\"\"\"\n",
       "                           Logit Regression Results                           \n",
       "==============================================================================\n",
       "Dep. Variable:                    sal   No. Observations:                  230\n",
       "Model:                          Logit   Df Residuals:                      209\n",
       "Method:                           MLE   Df Model:                           20\n",
       "Date:                Tue, 08 May 2018   Pseudo R-squ.:                  0.1697\n",
       "Time:                        18:06:02   Log-Likelihood:                -132.37\n",
       "converged:                       True   LL-Null:                       -159.42\n",
       "                                        LLR p-value:                 5.588e-05\n",
       "==================================================================================================================\n",
       "                                                     coef    std err          z      P>|z|      [0.025      0.975]\n",
       "------------------------------------------------------------------------------------------------------------------\n",
       "Intercept                                         -0.1999      0.449     -0.445      0.657      -1.081       0.681\n",
       "C(city, Treatment('Houston'))[T.Albany]           -0.7169      0.950     -0.755      0.450      -2.579       1.145\n",
       "C(city, Treatment('Houston'))[T.Atlanta]           0.8927      0.976      0.915      0.360      -1.020       2.805\n",
       "C(city, Treatment('Houston'))[T.Austin]           -0.1367      0.738     -0.185      0.853      -1.583       1.310\n",
       "C(city, Treatment('Houston'))[T.Boston]            0.2001      0.651      0.307      0.759      -1.076       1.477\n",
       "C(city, Treatment('Houston'))[T.Boulder]         -11.0619    278.918     -0.040      0.968    -557.730     535.606\n",
       "C(city, Treatment('Houston'))[T.Chicago]           0.7755      0.613      1.265      0.206      -0.426       1.977\n",
       "C(city, Treatment('Houston'))[T.Dallas]            0.0175      0.754      0.023      0.981      -1.461       1.496\n",
       "C(city, Treatment('Houston'))[T.Denver]            0.6041      1.017      0.594      0.553      -1.390       2.598\n",
       "C(city, Treatment('Houston'))[T.Long Beach]       -0.2052      1.017     -0.202      0.840      -2.199       1.789\n",
       "C(city, Treatment('Houston'))[T.Los Angeles]      -0.2059      0.787     -0.262      0.794      -1.748       1.336\n",
       "C(city, Treatment('Houston'))[T.Miami]            -1.5922      0.886     -1.797      0.072      -3.329       0.145\n",
       "C(city, Treatment('Houston'))[T.New York]         -0.2520      0.660     -0.382      0.703      -1.546       1.042\n",
       "C(city, Treatment('Houston'))[T.Philadelphia]     -0.0517      0.675     -0.077      0.939      -1.375       1.272\n",
       "C(city, Treatment('Houston'))[T.Phoenix]         -15.7330   1664.258     -0.009      0.992   -3277.619    3246.153\n",
       "C(city, Treatment('Houston'))[T.Pittsburgh]      -16.6916   2327.592     -0.007      0.994   -4578.688    4545.305\n",
       "C(city, Treatment('Houston'))[T.Portland]        -14.1433    920.587     -0.015      0.988   -1818.460    1790.173\n",
       "C(city, Treatment('Houston'))[T.San Diego]        -0.2059      0.787     -0.262      0.794      -1.748       1.336\n",
       "C(city, Treatment('Houston'))[T.San Francisco]     2.1093      0.699      3.016      0.003       0.739       3.480\n",
       "C(city, Treatment('Houston'))[T.Seattle]           1.7029      0.902      1.889      0.059      -0.064       3.470\n",
       "C(city, Treatment('Houston'))[T.Tuscon]          -11.0619    278.918     -0.040      0.968    -557.730     535.606\n",
       "==================================================================================================================\n",
       "\"\"\""
      ]
     },
     "execution_count": 68,
     "metadata": {},
     "output_type": "execute_result"
    }
   ],
   "source": [
    "import statsmodels.formula.api as sm\n",
    "mod1 = sm.logit(\"sal~C(city, Treatment('Houston'))\",data=df).fit(method='lbfgs')\n",
    "mod1.summary()"
   ]
  },
  {
   "cell_type": "markdown",
   "metadata": {},
   "source": [
    "<b>Confusion Matrix at the threshold level 0.5</b>"
   ]
  },
  {
   "cell_type": "markdown",
   "metadata": {},
   "source": [
    "As mod1.pred_table(threshold=0.5) returns a confusion matrix with values on a different axis, I'll extract results manually.\n",
    "\n",
    "Explanation on the manual:\n",
    "\n",
    "'pred_table[i,j] refers to the number of times “i” was observed and the model predicted “j”. Correct predictions are along the diagonal.'"
   ]
  },
  {
   "cell_type": "code",
   "execution_count": 69,
   "metadata": {},
   "outputs": [
    {
     "name": "stdout",
     "output_type": "stream",
     "text": [
      "True Positive Rate - Recall: 0.7083333333333334\n",
      "Positive Predictive Value - Precision: 0.591304347826087\n",
      "False Positive Rate: 0.35074626865671643\n",
      "True Negative Rate:  0.6492537313432836\n",
      "Accuracy Score: 0.6739130434782609\n"
     ]
    }
   ],
   "source": [
    "# prediction table\n",
    "ar = mod1.pred_table(threshold=0.5)\n",
    "\n",
    "tp = ar[1,1]\n",
    "fp = ar[1,0]\n",
    "tn = ar[0,0]\n",
    "fn = ar[0,1]\n",
    "\n",
    "print('True Positive Rate - Recall:', tp/(tp+fn))\n",
    "print('Positive Predictive Value - Precision:', tp/(tp+fp))\n",
    "print('False Positive Rate:', fp/(fp+tn))\n",
    "print('True Negative Rate: ', tn/(tn+fp))\n",
    "print('Accuracy Score:', (tp+tn)/(tp+tn+fp+fn))"
   ]
  },
  {
   "cell_type": "markdown",
   "metadata": {},
   "source": [
    "<b>Confusion Matrix at the threshold level 0.4</b>"
   ]
  },
  {
   "cell_type": "code",
   "execution_count": 70,
   "metadata": {},
   "outputs": [
    {
     "name": "stdout",
     "output_type": "stream",
     "text": [
      "True Positive Rate - Recall: 0.6\n",
      "Positive Predictive Value - Precision: 0.8347826086956521\n",
      "False Positive Rate: 0.2714285714285714\n",
      "True Negative Rate:  0.7285714285714285\n",
      "Accuracy Score: 0.6391304347826087\n"
     ]
    }
   ],
   "source": [
    "ar2 = mod1.pred_table(threshold=0.4)\n",
    "\n",
    "tp = ar2[1,1]\n",
    "fp = ar2[1,0]\n",
    "tn = ar2[0,0]\n",
    "fn = ar2[0,1]\n",
    "\n",
    "print('True Positive Rate - Recall:', tp/(tp+fn))\n",
    "print('Positive Predictive Value - Precision:', tp/(tp+fp))\n",
    "print('False Positive Rate:', fp/(fp+tn))\n",
    "print('True Negative Rate: ', tn/(tn+fp))\n",
    "print('Accuracy Score:', (tp+tn)/(tp+tn+fp+fn))"
   ]
  },
  {
   "cell_type": "markdown",
   "metadata": {},
   "source": [
    "<b>Results of Logistic Regression with StatsModels </b>"
   ]
  },
  {
   "cell_type": "markdown",
   "metadata": {},
   "source": [
    "Logistic Regression model with using 19 cities as predictors excluding Houston returned an accuracy score of 0.67 at the 0.5 probability threshold level. Overall, the model accuracy is above the baseline accuracy (0.5). Even though the model have not performed very well in predicting salaries with only using the location as a factor, it's expected given that the small number of valid observations in the scraped data required for this analyses.\n",
    "\n",
    "At the 0.5 probability threshold, the model has a 0.70 recall, but a 0.63 precision, indicating that when the model classified a salary as high, it was correct 63% of the time. Whereas overall 83% of the high salaries have been classified correctly. When the prediction threshold was reduced to 0.4, the model has a higher precision (81%) and a lower recall (60%). Although the accuracy was reduced a little with this threshold change, this better corresponds to the concerns of making incorrect true predictions. \n",
    "\n",
    "Houston has a negative coefficient of -0.2 with a p score of 0.65 indicating that it is not a very good predictor in terms of predicting the higher salaries.\n",
    "\n",
    "All the other city coefficients and p values are calculated in their effectiveness of predicting higher salaries in comparison to the dropped variable, Houston. Looking at the results, we can see that some cities have very high negative coefficients such as Boulder, Phoenix, Pittsburgh and Portland. The negative values indicates that the observations in the datasets seem to predict lower salaries. However, it's not possible to make a conclusion about the salary range in these cities with the current dataset, as it includes very few observation from these locations.\n",
    "\n",
    "Cities like Atlanta, Boston, Denver and Chicago are not significantly different than Houston in their contribution to the prediction. However, positive coefficients indicate that the salaries in these cities represented in the dataset are more likely be in the higher salary range.\n",
    "\n",
    "Only City that is significantly differs from Houston at p<0.05 level is San Francisco. Given the positive coefficient of 2.10, it's fair to say that the salaries in San Francisco are ten times more likely to be in the above median category range than Houston.\n",
    "\n",
    "Seattle also have a very low p value (0.06) which we can conclude as the jobs in Seattle is almost 8 times more likely to be in the higher range category comparing to Houston."
   ]
  },
  {
   "cell_type": "markdown",
   "metadata": {},
   "source": [
    "<b>LOGISTIC REGRESSION WITH SKLEARN</b>"
   ]
  },
  {
   "cell_type": "code",
   "execution_count": 71,
   "metadata": {},
   "outputs": [],
   "source": [
    "from sklearn.model_selection import GridSearchCV"
   ]
  },
  {
   "cell_type": "code",
   "execution_count": 72,
   "metadata": {},
   "outputs": [],
   "source": [
    "mod_df = df[['sal','city']]\n",
    "mod_df = pd.get_dummies(mod_df)\n",
    "mod_df = mod_df.drop('city_Houston', axis=1)"
   ]
  },
  {
   "cell_type": "code",
   "execution_count": 73,
   "metadata": {},
   "outputs": [],
   "source": [
    "X = mod_df[['city_Albany', 'city_Atlanta', 'city_Austin', 'city_Boston',\n",
    "       'city_Boulder', 'city_Chicago', 'city_Dallas', 'city_Denver',\n",
    "     'city_Long Beach', 'city_Los Angeles', 'city_Miami',\n",
    "       'city_New York', 'city_Philadelphia', 'city_Phoenix', 'city_Pittsburgh',\n",
    "       'city_Portland', 'city_San Diego', 'city_San Francisco',\n",
    "       'city_Seattle']]\n",
    "y = mod_df['sal']"
   ]
  },
  {
   "cell_type": "code",
   "execution_count": 74,
   "metadata": {},
   "outputs": [],
   "source": [
    "X_train, X_test, y_train, y_test  = train_test_split(X, y, test_size=0.33, random_state=5, stratify=y)"
   ]
  },
  {
   "cell_type": "code",
   "execution_count": 75,
   "metadata": {},
   "outputs": [
    {
     "name": "stdout",
     "output_type": "stream",
     "text": [
      "Fitting 3 folds for each of 100 candidates, totalling 300 fits\n"
     ]
    },
    {
     "name": "stderr",
     "output_type": "stream",
     "text": [
      "[Parallel(n_jobs=-1)]: Done 300 out of 300 | elapsed:    0.6s finished\n"
     ]
    },
    {
     "data": {
      "text/plain": [
       "GridSearchCV(cv=3, error_score='raise',\n",
       "       estimator=LogisticRegression(C=1.0, class_weight=None, dual=False, fit_intercept=True,\n",
       "          intercept_scaling=1, max_iter=100, multi_class='ovr', n_jobs=1,\n",
       "          penalty='l2', random_state=None, solver='liblinear', tol=0.0001,\n",
       "          verbose=0, warm_start=False),\n",
       "       fit_params=None, iid=True, n_jobs=-1,\n",
       "       param_grid={'penalty': ['l1', 'l2'], 'solver': ['liblinear'], 'C': array([1.00000e-05, 1.45635e-05, 2.12095e-05, 3.08884e-05, 4.49843e-05,\n",
       "       6.55129e-05, 9.54095e-05, 1.38950e-04, 2.02359e-04, 2.94705e-04,\n",
       "       4.29193e-04, 6.25055e-04, 9.10298e-04, 1.32571e-03, 1.93070e-03,\n",
       "       2.81177e-0... 1.04811e+02, 1.52642e+02,\n",
       "       2.22300e+02, 3.23746e+02, 4.71487e+02, 6.86649e+02, 1.00000e+03])},\n",
       "       pre_dispatch='2*n_jobs', refit=True, return_train_score='warn',\n",
       "       scoring=None, verbose=1)"
      ]
     },
     "execution_count": 75,
     "metadata": {},
     "output_type": "execute_result"
    }
   ],
   "source": [
    "gs_params = {'penalty':['l1','l2'],\n",
    "             'solver':['liblinear'],\n",
    "             'C':np.logspace(-5,3,50)}\n",
    "mod_2 = GridSearchCV(LogisticRegression(), gs_params, n_jobs=-1, cv=3, verbose=1)\n",
    "mod_2.fit(X_train, y_train)"
   ]
  },
  {
   "cell_type": "code",
   "execution_count": 76,
   "metadata": {},
   "outputs": [
    {
     "name": "stdout",
     "output_type": "stream",
     "text": [
      "Best Model Score: 0.5844155844155844\n",
      "Best Parameters: {'C': 0.5428675439323859, 'penalty': 'l1', 'solver': 'liblinear'}\n",
      "Accuracy Score: 0.6842105263157895\n",
      "Coefficient for Houston: [-0.1116316]\n"
     ]
    }
   ],
   "source": [
    "# Model Scores, best parameters and the intercept\n",
    "print('Best Model Score:', mod_2.best_score_)\n",
    "print('Best Parameters:', mod_2.best_params_)\n",
    "print('Accuracy Score:', mod_2.best_estimator_.score(X_test, y_test))\n",
    "print('Coefficient for Houston:', mod_2.best_estimator_.intercept_)"
   ]
  },
  {
   "cell_type": "code",
   "execution_count": 77,
   "metadata": {},
   "outputs": [
    {
     "data": {
      "text/html": [
       "<div>\n",
       "<style scoped>\n",
       "    .dataframe tbody tr th:only-of-type {\n",
       "        vertical-align: middle;\n",
       "    }\n",
       "\n",
       "    .dataframe tbody tr th {\n",
       "        vertical-align: top;\n",
       "    }\n",
       "\n",
       "    .dataframe thead th {\n",
       "        text-align: right;\n",
       "    }\n",
       "</style>\n",
       "<table border=\"1\" class=\"dataframe\">\n",
       "  <thead>\n",
       "    <tr style=\"text-align: right;\">\n",
       "      <th></th>\n",
       "      <th>abs_coef</th>\n",
       "      <th>coef</th>\n",
       "      <th>feature</th>\n",
       "    </tr>\n",
       "  </thead>\n",
       "  <tbody>\n",
       "    <tr>\n",
       "      <th>17</th>\n",
       "      <td>1.184564</td>\n",
       "      <td>1.184564</td>\n",
       "      <td>city_San Francisco</td>\n",
       "    </tr>\n",
       "    <tr>\n",
       "      <th>10</th>\n",
       "      <td>0.484371</td>\n",
       "      <td>-0.484371</td>\n",
       "      <td>city_Miami</td>\n",
       "    </tr>\n",
       "    <tr>\n",
       "      <th>18</th>\n",
       "      <td>0.406148</td>\n",
       "      <td>0.406148</td>\n",
       "      <td>city_Seattle</td>\n",
       "    </tr>\n",
       "    <tr>\n",
       "      <th>5</th>\n",
       "      <td>0.314760</td>\n",
       "      <td>0.314760</td>\n",
       "      <td>city_Chicago</td>\n",
       "    </tr>\n",
       "    <tr>\n",
       "      <th>14</th>\n",
       "      <td>0.046628</td>\n",
       "      <td>-0.046628</td>\n",
       "      <td>city_Pittsburgh</td>\n",
       "    </tr>\n",
       "    <tr>\n",
       "      <th>16</th>\n",
       "      <td>0.000000</td>\n",
       "      <td>0.000000</td>\n",
       "      <td>city_San Diego</td>\n",
       "    </tr>\n",
       "    <tr>\n",
       "      <th>15</th>\n",
       "      <td>0.000000</td>\n",
       "      <td>0.000000</td>\n",
       "      <td>city_Portland</td>\n",
       "    </tr>\n",
       "    <tr>\n",
       "      <th>13</th>\n",
       "      <td>0.000000</td>\n",
       "      <td>0.000000</td>\n",
       "      <td>city_Phoenix</td>\n",
       "    </tr>\n",
       "    <tr>\n",
       "      <th>12</th>\n",
       "      <td>0.000000</td>\n",
       "      <td>0.000000</td>\n",
       "      <td>city_Philadelphia</td>\n",
       "    </tr>\n",
       "    <tr>\n",
       "      <th>11</th>\n",
       "      <td>0.000000</td>\n",
       "      <td>0.000000</td>\n",
       "      <td>city_New York</td>\n",
       "    </tr>\n",
       "    <tr>\n",
       "      <th>0</th>\n",
       "      <td>0.000000</td>\n",
       "      <td>0.000000</td>\n",
       "      <td>city_Albany</td>\n",
       "    </tr>\n",
       "    <tr>\n",
       "      <th>1</th>\n",
       "      <td>0.000000</td>\n",
       "      <td>0.000000</td>\n",
       "      <td>city_Atlanta</td>\n",
       "    </tr>\n",
       "    <tr>\n",
       "      <th>8</th>\n",
       "      <td>0.000000</td>\n",
       "      <td>0.000000</td>\n",
       "      <td>city_Long Beach</td>\n",
       "    </tr>\n",
       "    <tr>\n",
       "      <th>7</th>\n",
       "      <td>0.000000</td>\n",
       "      <td>0.000000</td>\n",
       "      <td>city_Denver</td>\n",
       "    </tr>\n",
       "    <tr>\n",
       "      <th>6</th>\n",
       "      <td>0.000000</td>\n",
       "      <td>0.000000</td>\n",
       "      <td>city_Dallas</td>\n",
       "    </tr>\n",
       "    <tr>\n",
       "      <th>4</th>\n",
       "      <td>0.000000</td>\n",
       "      <td>0.000000</td>\n",
       "      <td>city_Boulder</td>\n",
       "    </tr>\n",
       "    <tr>\n",
       "      <th>3</th>\n",
       "      <td>0.000000</td>\n",
       "      <td>0.000000</td>\n",
       "      <td>city_Boston</td>\n",
       "    </tr>\n",
       "    <tr>\n",
       "      <th>2</th>\n",
       "      <td>0.000000</td>\n",
       "      <td>0.000000</td>\n",
       "      <td>city_Austin</td>\n",
       "    </tr>\n",
       "    <tr>\n",
       "      <th>9</th>\n",
       "      <td>0.000000</td>\n",
       "      <td>0.000000</td>\n",
       "      <td>city_Los Angeles</td>\n",
       "    </tr>\n",
       "  </tbody>\n",
       "</table>\n",
       "</div>"
      ],
      "text/plain": [
       "    abs_coef      coef             feature\n",
       "17  1.184564  1.184564  city_San Francisco\n",
       "10  0.484371 -0.484371          city_Miami\n",
       "18  0.406148  0.406148        city_Seattle\n",
       "5   0.314760  0.314760        city_Chicago\n",
       "14  0.046628 -0.046628     city_Pittsburgh\n",
       "16  0.000000  0.000000      city_San Diego\n",
       "15  0.000000  0.000000       city_Portland\n",
       "13  0.000000  0.000000        city_Phoenix\n",
       "12  0.000000  0.000000   city_Philadelphia\n",
       "11  0.000000  0.000000       city_New York\n",
       "0   0.000000  0.000000         city_Albany\n",
       "1   0.000000  0.000000        city_Atlanta\n",
       "8   0.000000  0.000000     city_Long Beach\n",
       "7   0.000000  0.000000         city_Denver\n",
       "6   0.000000  0.000000         city_Dallas\n",
       "4   0.000000  0.000000        city_Boulder\n",
       "3   0.000000  0.000000         city_Boston\n",
       "2   0.000000  0.000000         city_Austin\n",
       "9   0.000000  0.000000    city_Los Angeles"
      ]
     },
     "execution_count": 77,
     "metadata": {},
     "output_type": "execute_result"
    }
   ],
   "source": [
    "coef_df = pd.DataFrame({'coef': mod_2.best_estimator_.coef_[0], 'feature': X_train.columns, \n",
    "            'abs_coef': np.abs(mod_2.best_estimator_.coef_[0])})\n",
    "coef_df.sort_values('abs_coef', ascending=False, inplace=True)\n",
    "coef_df"
   ]
  },
  {
   "cell_type": "code",
   "execution_count": 78,
   "metadata": {},
   "outputs": [
    {
     "data": {
      "text/html": [
       "<div>\n",
       "<style scoped>\n",
       "    .dataframe tbody tr th:only-of-type {\n",
       "        vertical-align: middle;\n",
       "    }\n",
       "\n",
       "    .dataframe tbody tr th {\n",
       "        vertical-align: top;\n",
       "    }\n",
       "\n",
       "    .dataframe thead th {\n",
       "        text-align: right;\n",
       "    }\n",
       "</style>\n",
       "<table border=\"1\" class=\"dataframe\">\n",
       "  <thead>\n",
       "    <tr style=\"text-align: right;\">\n",
       "      <th></th>\n",
       "      <th>pred_high_sal</th>\n",
       "      <th>pred_low_sal</th>\n",
       "    </tr>\n",
       "  </thead>\n",
       "  <tbody>\n",
       "    <tr>\n",
       "      <th>high_sal</th>\n",
       "      <td>20</td>\n",
       "      <td>18</td>\n",
       "    </tr>\n",
       "    <tr>\n",
       "      <th>low_sal</th>\n",
       "      <td>6</td>\n",
       "      <td>32</td>\n",
       "    </tr>\n",
       "  </tbody>\n",
       "</table>\n",
       "</div>"
      ],
      "text/plain": [
       "          pred_high_sal  pred_low_sal\n",
       "high_sal             20            18\n",
       "low_sal               6            32"
      ]
     },
     "execution_count": 78,
     "metadata": {},
     "output_type": "execute_result"
    }
   ],
   "source": [
    "mod_2_yhat = mod_2.best_estimator_.predict(X_test)\n",
    "confusion = confusion_matrix(y_test,mod_2_yhat,labels=[1,0])\n",
    "pd.DataFrame(confusion, columns=['pred_high_sal', 'pred_low_sal'], index=['high_sal', 'low_sal'])"
   ]
  },
  {
   "cell_type": "code",
   "execution_count": 79,
   "metadata": {
    "scrolled": true
   },
   "outputs": [
    {
     "name": "stdout",
     "output_type": "stream",
     "text": [
      "auc score: 0.7236842105263158\n"
     ]
    }
   ],
   "source": [
    "# calculating auc score\n",
    "prob_l = mod_2.best_estimator_.predict_proba(X_test)\n",
    "print('auc score:', roc_auc_score(y_test, prob_l[:,1]))"
   ]
  },
  {
   "cell_type": "code",
   "execution_count": 80,
   "metadata": {},
   "outputs": [
    {
     "name": "stdout",
     "output_type": "stream",
     "text": [
      "             precision    recall  f1-score   support\n",
      "\n",
      "          1       0.77      0.53      0.62        38\n",
      "          0       0.64      0.84      0.73        38\n",
      "\n",
      "avg / total       0.70      0.68      0.68        76\n",
      "\n"
     ]
    }
   ],
   "source": [
    "# classification report of the Logistic Regression Model\n",
    "print(classification_report(y_test, mod_2_yhat, labels=[1,0]))"
   ]
  },
  {
   "cell_type": "markdown",
   "metadata": {},
   "source": [
    "<b>Results at the 0.7 Threshold</b>"
   ]
  },
  {
   "cell_type": "code",
   "execution_count": 81,
   "metadata": {},
   "outputs": [],
   "source": [
    "predictions_for_70 = (mod_2.best_estimator_.predict_proba(X_test)[:,1]>0.7)*1"
   ]
  },
  {
   "cell_type": "code",
   "execution_count": 82,
   "metadata": {},
   "outputs": [
    {
     "data": {
      "text/html": [
       "<div>\n",
       "<style scoped>\n",
       "    .dataframe tbody tr th:only-of-type {\n",
       "        vertical-align: middle;\n",
       "    }\n",
       "\n",
       "    .dataframe tbody tr th {\n",
       "        vertical-align: top;\n",
       "    }\n",
       "\n",
       "    .dataframe thead th {\n",
       "        text-align: right;\n",
       "    }\n",
       "</style>\n",
       "<table border=\"1\" class=\"dataframe\">\n",
       "  <thead>\n",
       "    <tr style=\"text-align: right;\">\n",
       "      <th></th>\n",
       "      <th>pred_high_sal</th>\n",
       "      <th>pred_low_sal</th>\n",
       "    </tr>\n",
       "  </thead>\n",
       "  <tbody>\n",
       "    <tr>\n",
       "      <th>high_sal</th>\n",
       "      <td>11</td>\n",
       "      <td>27</td>\n",
       "    </tr>\n",
       "    <tr>\n",
       "      <th>low_sal</th>\n",
       "      <td>1</td>\n",
       "      <td>37</td>\n",
       "    </tr>\n",
       "  </tbody>\n",
       "</table>\n",
       "</div>"
      ],
      "text/plain": [
       "          pred_high_sal  pred_low_sal\n",
       "high_sal             11            27\n",
       "low_sal               1            37"
      ]
     },
     "execution_count": 82,
     "metadata": {},
     "output_type": "execute_result"
    }
   ],
   "source": [
    "confusion = confusion_matrix(y_test, predictions_for_70, labels=[1,0])\n",
    "conf = pd.DataFrame(confusion, columns=['pred_high_sal', 'pred_low_sal'], index=['high_sal', 'low_sal'])\n",
    "conf"
   ]
  },
  {
   "cell_type": "code",
   "execution_count": 83,
   "metadata": {},
   "outputs": [],
   "source": [
    "# calculating new rates to plot them lates\n",
    "nfpr = conf.loc['high_sal', 'pred_low_sal']/(conf.loc['high_sal', 'pred_low_sal']+conf.loc['low_sal', 'pred_low_sal'])\n",
    "ntpr = conf.loc['high_sal', 'pred_high_sal']/(conf.loc['high_sal', 'pred_high_sal']+conf.loc['low_sal', 'pred_high_sal'])"
   ]
  },
  {
   "cell_type": "code",
   "execution_count": 85,
   "metadata": {},
   "outputs": [
    {
     "name": "stdout",
     "output_type": "stream",
     "text": [
      "             precision    recall  f1-score   support\n",
      "\n",
      "          1       0.92      0.29      0.44        38\n",
      "          0       0.58      0.97      0.73        38\n",
      "\n",
      "avg / total       0.75      0.63      0.58        76\n",
      "\n"
     ]
    }
   ],
   "source": [
    "print(classification_report(y_test, predictions_for_70, labels=[1,0]))"
   ]
  },
  {
   "cell_type": "markdown",
   "metadata": {},
   "source": [
    "<b>Results of Logistic Regression with Sklearn</b>"
   ]
  },
  {
   "cell_type": "markdown",
   "metadata": {},
   "source": [
    "In order to predict higher salary with the same predictors, I used Grid Search method to find an optimal combination of hyper parameters and cross validate my model with a training set. Then I tested it's performance on a test set. \n",
    "The overall accuracy score of this model is 0.68 which is a lot better than the first model. It had a 77% precision at the 0.5 probability threshold with a 53% recall rate.\n",
    "Given the concerns about wrong higher salary predictions, I increased the probability threshold to 0.7 and as a result, the model had high precision suggesting that the model is correct 92% of the time in predicting higher salaries.\n",
    "As the regularization has been used, most of the variables didn't entered the model (Houston was dropped from the analyses as well). Looking at the coefficients, we can see that, again, San Francisco has the largest contribution to the model. Other cities with smaller, but positive coefficients are Seattle and Chicago. "
   ]
  },
  {
   "cell_type": "markdown",
   "metadata": {},
   "source": [
    "<b>KNN-MODEL</b>"
   ]
  },
  {
   "cell_type": "code",
   "execution_count": 86,
   "metadata": {},
   "outputs": [
    {
     "name": "stdout",
     "output_type": "stream",
     "text": [
      "Fitting 3 folds for each of 20 candidates, totalling 60 fits\n"
     ]
    },
    {
     "name": "stderr",
     "output_type": "stream",
     "text": [
      "[Parallel(n_jobs=-1)]: Done  60 out of  60 | elapsed:    0.1s finished\n"
     ]
    },
    {
     "data": {
      "text/plain": [
       "GridSearchCV(cv=3, error_score='raise',\n",
       "       estimator=KNeighborsClassifier(algorithm='auto', leaf_size=30, metric='minkowski',\n",
       "           metric_params=None, n_jobs=1, n_neighbors=5, p=2,\n",
       "           weights='uniform'),\n",
       "       fit_params=None, iid=True, n_jobs=-1,\n",
       "       param_grid={'n_neighbors': [3, 9, 12, 15, 25], 'weights': ['uniform', 'distance'], 'metric': ['euclidean', 'manhattan']},\n",
       "       pre_dispatch='2*n_jobs', refit=True, return_train_score='warn',\n",
       "       scoring=None, verbose=1)"
      ]
     },
     "execution_count": 86,
     "metadata": {},
     "output_type": "execute_result"
    }
   ],
   "source": [
    "knn_params = {'n_neighbors':[3,9,12,15,25],\n",
    "             'weights':['uniform','distance'],\n",
    "            'metric':['euclidean','manhattan']}\n",
    "mod_3 = GridSearchCV(KNeighborsClassifier(), knn_params, cv=3, n_jobs=-1, verbose=1)\n",
    "mod_3.fit(X_train, y_train)"
   ]
  },
  {
   "cell_type": "code",
   "execution_count": 87,
   "metadata": {},
   "outputs": [
    {
     "name": "stdout",
     "output_type": "stream",
     "text": [
      "Best Model Score: 0.564935064935065\n",
      "Best Parameters: {'metric': 'euclidean', 'n_neighbors': 12, 'weights': 'uniform'}\n",
      "Accuracy Score: 0.6973684210526315\n"
     ]
    }
   ],
   "source": [
    "# Model Scores, best parameters and the intercept\n",
    "print('Best Model Score:', mod_3.best_score_)\n",
    "print('Best Parameters:', mod_3.best_params_)\n",
    "print('Accuracy Score:', mod_3.best_estimator_.score(X_test, y_test))"
   ]
  },
  {
   "cell_type": "code",
   "execution_count": 88,
   "metadata": {},
   "outputs": [
    {
     "name": "stdout",
     "output_type": "stream",
     "text": [
      "AUC Score: 0.6945983379501386\n"
     ]
    }
   ],
   "source": [
    "prob_k = mod_3.best_estimator_.predict_proba(X_test)\n",
    "print('AUC Score:', roc_auc_score(y_test, prob_k[:,1]))"
   ]
  },
  {
   "cell_type": "code",
   "execution_count": 89,
   "metadata": {},
   "outputs": [
    {
     "data": {
      "text/html": [
       "<div>\n",
       "<style scoped>\n",
       "    .dataframe tbody tr th:only-of-type {\n",
       "        vertical-align: middle;\n",
       "    }\n",
       "\n",
       "    .dataframe tbody tr th {\n",
       "        vertical-align: top;\n",
       "    }\n",
       "\n",
       "    .dataframe thead th {\n",
       "        text-align: right;\n",
       "    }\n",
       "</style>\n",
       "<table border=\"1\" class=\"dataframe\">\n",
       "  <thead>\n",
       "    <tr style=\"text-align: right;\">\n",
       "      <th></th>\n",
       "      <th>pred_high_sal</th>\n",
       "      <th>pred_low_sal</th>\n",
       "    </tr>\n",
       "  </thead>\n",
       "  <tbody>\n",
       "    <tr>\n",
       "      <th>high_sal</th>\n",
       "      <td>22</td>\n",
       "      <td>16</td>\n",
       "    </tr>\n",
       "    <tr>\n",
       "      <th>low_sal</th>\n",
       "      <td>7</td>\n",
       "      <td>31</td>\n",
       "    </tr>\n",
       "  </tbody>\n",
       "</table>\n",
       "</div>"
      ],
      "text/plain": [
       "          pred_high_sal  pred_low_sal\n",
       "high_sal             22            16\n",
       "low_sal               7            31"
      ]
     },
     "execution_count": 89,
     "metadata": {},
     "output_type": "execute_result"
    }
   ],
   "source": [
    "mod3_yhat = mod_3.best_estimator_.predict(X_test)\n",
    "confusion = confusion_matrix(y_test, mod3_yhat, labels=[1,0])\n",
    "pd.DataFrame(confusion, columns=['pred_high_sal', 'pred_low_sal'], index=['high_sal', 'low_sal'])"
   ]
  },
  {
   "cell_type": "code",
   "execution_count": 90,
   "metadata": {
    "scrolled": true
   },
   "outputs": [
    {
     "name": "stdout",
     "output_type": "stream",
     "text": [
      "             precision    recall  f1-score   support\n",
      "\n",
      "          1       0.76      0.58      0.66        38\n",
      "          0       0.66      0.82      0.73        38\n",
      "\n",
      "avg / total       0.71      0.70      0.69        76\n",
      "\n"
     ]
    }
   ],
   "source": [
    "print(classification_report(y_test, mod3_yhat, labels=[1,0]))"
   ]
  },
  {
   "cell_type": "markdown",
   "metadata": {},
   "source": [
    "<b>Results of KNN Model</b>"
   ]
  },
  {
   "cell_type": "markdown",
   "metadata": {},
   "source": [
    "Similar to the previous model, the best KNN estimator that returned from cross validated grid search model had an accuracy score of 0.69.\n",
    "The model had a 77% precision rate and 58% recall at the 0.5 probability threshold level. "
   ]
  },
  {
   "cell_type": "markdown",
   "metadata": {},
   "source": [
    "<b>ROC Curve for Skelearn Logistic Regression and KNN Model:</b>"
   ]
  },
  {
   "cell_type": "code",
   "execution_count": 94,
   "metadata": {},
   "outputs": [],
   "source": [
    "from sklearn.metrics import roc_curve, roc_auc_score, precision_recall_curve, auc"
   ]
  },
  {
   "cell_type": "code",
   "execution_count": 95,
   "metadata": {},
   "outputs": [],
   "source": [
    "# threshold 0.5\n",
    "fpr_lr, tpr_lr, treshold_lr = roc_curve(y_test, prob_l[:,1])\n",
    "roc_auc = auc(fpr_lr, tpr_lr)"
   ]
  },
  {
   "cell_type": "code",
   "execution_count": 96,
   "metadata": {},
   "outputs": [],
   "source": [
    "fpr_knn, tpr_knn, treshold_knn = roc_curve(y_test, prob_k[:,1])\n",
    "roc_auc2 = auc(fpr_knn, tpr_knn)"
   ]
  },
  {
   "cell_type": "code",
   "execution_count": 98,
   "metadata": {},
   "outputs": [
    {
     "ename": "SyntaxError",
     "evalue": "invalid syntax (<ipython-input-98-f88b143b76f1>, line 3)",
     "output_type": "error",
     "traceback": [
      "\u001b[0;36m  File \u001b[0;32m\"<ipython-input-98-f88b143b76f1>\"\u001b[0;36m, line \u001b[0;32m3\u001b[0m\n\u001b[0;31m    ax.plot(conf.loc[fpr_lr, tpr_lr, label='Sklearn LogReg Model (area = %0.3f)' %roc_auc, linewidth=3);\u001b[0m\n\u001b[0m                                          ^\u001b[0m\n\u001b[0;31mSyntaxError\u001b[0m\u001b[0;31m:\u001b[0m invalid syntax\n"
     ]
    }
   ],
   "source": [
    "fig, ax = plt.subplots(figsize=(8,8))\n",
    "\n",
    "ax.plot(conf.loc[fpr_lr, tpr_lr, label='Sklearn LogReg Model (area = %0.3f)' %roc_auc, linewidth=3);\n",
    "ax.plot(fpr_knn, tpr_knn, label='KNN Model (area = %0.3f)' %roc_auc2, linewidth=3)\n",
    "ax.plot([0, 1], [0, 1], 'k--', linewidth=4)\n",
    "\n",
    "ax.set_xlabel('False Positive Rate', fontsize=14)\n",
    "ax.set_ylabel('True Positive Rate', fontsize=14)\n",
    "ax.set_title('Receiver operating characteristic: Salary over median', fontsize=14)\n",
    "ax.legend(loc=\"lower right\");"
   ]
  },
  {
   "cell_type": "markdown",
   "metadata": {},
   "source": [
    "Above ROC Curve compares TPR and FPRs of both KNN and Sklearn Logistic Regression models. AUC measures for both models are 0.69 and 0.72, respectively. This suggests that Logistic Regression model has a better true positive rate than KNN model."
   ]
  },
  {
   "cell_type": "markdown",
   "metadata": {},
   "source": [
    "<b>LOGISTIC REGRESSION WITH JOB FEATURES INCLUDED</b>"
   ]
  },
  {
   "cell_type": "code",
   "execution_count": 99,
   "metadata": {},
   "outputs": [],
   "source": [
    "data = df[['city','title_Data', 'title_Scientist', 'title_Analyst', 'title_Research',\n",
    "       'title_Engineer', 'title_Machine', 'title_Modeling', 'title_Statistic',\n",
    "       'title_Senior', 'title_Junior', 'title_Staff', 'title_Director',\n",
    "       'title_Manager', 'title_Intern', 'title_Principal', 'sal']]\n",
    "data = pd.get_dummies(data)"
   ]
  },
  {
   "cell_type": "code",
   "execution_count": 100,
   "metadata": {},
   "outputs": [],
   "source": [
    "# houston has been dropped again\n",
    "X = data[['title_Data', 'title_Scientist', 'title_Analyst', 'title_Research',\n",
    "       'title_Engineer', 'title_Machine', 'title_Modeling', 'title_Statistic',\n",
    "       'title_Senior', 'title_Junior', 'title_Staff', 'title_Director',\n",
    "       'title_Manager', 'title_Intern', 'title_Principal',\n",
    "       'city_Albany', 'city_Atlanta', 'city_Austin', 'city_Boston',\n",
    "       'city_Boulder', 'city_Chicago', 'city_Dallas', 'city_Denver',\n",
    "       'city_Long Beach', 'city_Los Angeles', 'city_Miami',\n",
    "       'city_New York', 'city_Philadelphia', 'city_Phoenix', 'city_Pittsburgh',\n",
    "       'city_Portland', 'city_San Diego', 'city_San Francisco',\n",
    "       'city_Seattle']]\n",
    "y = data['sal']"
   ]
  },
  {
   "cell_type": "code",
   "execution_count": 101,
   "metadata": {},
   "outputs": [],
   "source": [
    "X_tr, X_te, y_tr, y_te = train_test_split(X, y, test_size=0.33, stratify=y, random_state=5)"
   ]
  },
  {
   "cell_type": "code",
   "execution_count": 102,
   "metadata": {},
   "outputs": [
    {
     "name": "stdout",
     "output_type": "stream",
     "text": [
      "Fitting 3 folds for each of 100 candidates, totalling 300 fits\n"
     ]
    },
    {
     "name": "stderr",
     "output_type": "stream",
     "text": [
      "[Parallel(n_jobs=-1)]: Done 300 out of 300 | elapsed:    0.8s finished\n"
     ]
    },
    {
     "data": {
      "text/plain": [
       "GridSearchCV(cv=3, error_score='raise',\n",
       "       estimator=LogisticRegression(C=1.0, class_weight=None, dual=False, fit_intercept=True,\n",
       "          intercept_scaling=1, max_iter=100, multi_class='ovr', n_jobs=1,\n",
       "          penalty='l2', random_state=None, solver='liblinear', tol=0.0001,\n",
       "          verbose=0, warm_start=False),\n",
       "       fit_params=None, iid=True, n_jobs=-1,\n",
       "       param_grid={'penalty': ['l1', 'l2'], 'solver': ['liblinear'], 'C': array([0.001  , 0.00115, 0.00133, 0.00153, 0.00176, 0.00202, 0.00233,\n",
       "       0.00268, 0.00309, 0.00356, 0.00409, 0.00471, 0.00543, 0.00625,\n",
       "       0.0072 , 0.00829, 0.00954, 0.01099, 0.01265, 0.01456, 0.01677,\n",
       "       0.01931, 0.02223...18, 0.32375,\n",
       "       0.37276, 0.42919, 0.49417, 0.56899, 0.65513, 0.75431, 0.86851,\n",
       "       1.     ])},\n",
       "       pre_dispatch='2*n_jobs', refit=True, return_train_score='warn',\n",
       "       scoring=None, verbose=1)"
      ]
     },
     "execution_count": 102,
     "metadata": {},
     "output_type": "execute_result"
    }
   ],
   "source": [
    "gs_params = {'penalty':['l1','l2'],\n",
    "             'solver':['liblinear'],\n",
    "             'C':np.logspace(-3,0,50)}\n",
    "gs_logreg = GridSearchCV(LogisticRegression(), gs_params, n_jobs=-1, verbose=1, cv=3)\n",
    "gs_logreg.fit(X_tr, y_tr)"
   ]
  },
  {
   "cell_type": "code",
   "execution_count": 103,
   "metadata": {},
   "outputs": [
    {
     "name": "stdout",
     "output_type": "stream",
     "text": [
      "Best Model Score: 0.6558441558441559\n",
      "Best Parameters: {'C': 0.32374575428176433, 'penalty': 'l1', 'solver': 'liblinear'}\n",
      "Accuracy Score: 0.6842105263157895\n",
      "Coefficient for Houston: [-0.10558023]\n"
     ]
    }
   ],
   "source": [
    "# Model Scores, best parameters and the intercept\n",
    "print('Best Model Score:', gs_logreg.best_score_)\n",
    "print('Best Parameters:', gs_logreg.best_params_)\n",
    "print('Accuracy Score:', gs_logreg.best_estimator_.score(X_te, y_te))\n",
    "print('Coefficient for Houston:', gs_logreg.best_estimator_.intercept_)"
   ]
  },
  {
   "cell_type": "code",
   "execution_count": 104,
   "metadata": {},
   "outputs": [
    {
     "data": {
      "text/html": [
       "<div>\n",
       "<style scoped>\n",
       "    .dataframe tbody tr th:only-of-type {\n",
       "        vertical-align: middle;\n",
       "    }\n",
       "\n",
       "    .dataframe tbody tr th {\n",
       "        vertical-align: top;\n",
       "    }\n",
       "\n",
       "    .dataframe thead th {\n",
       "        text-align: right;\n",
       "    }\n",
       "</style>\n",
       "<table border=\"1\" class=\"dataframe\">\n",
       "  <thead>\n",
       "    <tr style=\"text-align: right;\">\n",
       "      <th></th>\n",
       "      <th>abs_coef</th>\n",
       "      <th>coef</th>\n",
       "      <th>feature</th>\n",
       "    </tr>\n",
       "  </thead>\n",
       "  <tbody>\n",
       "    <tr>\n",
       "      <th>32</th>\n",
       "      <td>0.554073</td>\n",
       "      <td>0.554073</td>\n",
       "      <td>city_San Francisco</td>\n",
       "    </tr>\n",
       "    <tr>\n",
       "      <th>4</th>\n",
       "      <td>0.445928</td>\n",
       "      <td>0.445928</td>\n",
       "      <td>title_Engineer</td>\n",
       "    </tr>\n",
       "    <tr>\n",
       "      <th>0</th>\n",
       "      <td>0.408190</td>\n",
       "      <td>0.408190</td>\n",
       "      <td>title_Data</td>\n",
       "    </tr>\n",
       "    <tr>\n",
       "      <th>3</th>\n",
       "      <td>0.374016</td>\n",
       "      <td>-0.374016</td>\n",
       "      <td>title_Research</td>\n",
       "    </tr>\n",
       "    <tr>\n",
       "      <th>25</th>\n",
       "      <td>0.000000</td>\n",
       "      <td>0.000000</td>\n",
       "      <td>city_Miami</td>\n",
       "    </tr>\n",
       "    <tr>\n",
       "      <th>20</th>\n",
       "      <td>0.000000</td>\n",
       "      <td>0.000000</td>\n",
       "      <td>city_Chicago</td>\n",
       "    </tr>\n",
       "    <tr>\n",
       "      <th>21</th>\n",
       "      <td>0.000000</td>\n",
       "      <td>0.000000</td>\n",
       "      <td>city_Dallas</td>\n",
       "    </tr>\n",
       "    <tr>\n",
       "      <th>22</th>\n",
       "      <td>0.000000</td>\n",
       "      <td>0.000000</td>\n",
       "      <td>city_Denver</td>\n",
       "    </tr>\n",
       "    <tr>\n",
       "      <th>23</th>\n",
       "      <td>0.000000</td>\n",
       "      <td>0.000000</td>\n",
       "      <td>city_Long Beach</td>\n",
       "    </tr>\n",
       "    <tr>\n",
       "      <th>24</th>\n",
       "      <td>0.000000</td>\n",
       "      <td>0.000000</td>\n",
       "      <td>city_Los Angeles</td>\n",
       "    </tr>\n",
       "    <tr>\n",
       "      <th>27</th>\n",
       "      <td>0.000000</td>\n",
       "      <td>0.000000</td>\n",
       "      <td>city_Philadelphia</td>\n",
       "    </tr>\n",
       "    <tr>\n",
       "      <th>26</th>\n",
       "      <td>0.000000</td>\n",
       "      <td>0.000000</td>\n",
       "      <td>city_New York</td>\n",
       "    </tr>\n",
       "    <tr>\n",
       "      <th>18</th>\n",
       "      <td>0.000000</td>\n",
       "      <td>0.000000</td>\n",
       "      <td>city_Boston</td>\n",
       "    </tr>\n",
       "    <tr>\n",
       "      <th>28</th>\n",
       "      <td>0.000000</td>\n",
       "      <td>0.000000</td>\n",
       "      <td>city_Phoenix</td>\n",
       "    </tr>\n",
       "    <tr>\n",
       "      <th>29</th>\n",
       "      <td>0.000000</td>\n",
       "      <td>0.000000</td>\n",
       "      <td>city_Pittsburgh</td>\n",
       "    </tr>\n",
       "    <tr>\n",
       "      <th>30</th>\n",
       "      <td>0.000000</td>\n",
       "      <td>0.000000</td>\n",
       "      <td>city_Portland</td>\n",
       "    </tr>\n",
       "    <tr>\n",
       "      <th>31</th>\n",
       "      <td>0.000000</td>\n",
       "      <td>0.000000</td>\n",
       "      <td>city_San Diego</td>\n",
       "    </tr>\n",
       "    <tr>\n",
       "      <th>19</th>\n",
       "      <td>0.000000</td>\n",
       "      <td>0.000000</td>\n",
       "      <td>city_Boulder</td>\n",
       "    </tr>\n",
       "    <tr>\n",
       "      <th>17</th>\n",
       "      <td>0.000000</td>\n",
       "      <td>0.000000</td>\n",
       "      <td>city_Austin</td>\n",
       "    </tr>\n",
       "    <tr>\n",
       "      <th>1</th>\n",
       "      <td>0.000000</td>\n",
       "      <td>0.000000</td>\n",
       "      <td>title_Scientist</td>\n",
       "    </tr>\n",
       "    <tr>\n",
       "      <th>16</th>\n",
       "      <td>0.000000</td>\n",
       "      <td>0.000000</td>\n",
       "      <td>city_Atlanta</td>\n",
       "    </tr>\n",
       "    <tr>\n",
       "      <th>15</th>\n",
       "      <td>0.000000</td>\n",
       "      <td>0.000000</td>\n",
       "      <td>city_Albany</td>\n",
       "    </tr>\n",
       "    <tr>\n",
       "      <th>14</th>\n",
       "      <td>0.000000</td>\n",
       "      <td>0.000000</td>\n",
       "      <td>title_Principal</td>\n",
       "    </tr>\n",
       "    <tr>\n",
       "      <th>13</th>\n",
       "      <td>0.000000</td>\n",
       "      <td>0.000000</td>\n",
       "      <td>title_Intern</td>\n",
       "    </tr>\n",
       "    <tr>\n",
       "      <th>12</th>\n",
       "      <td>0.000000</td>\n",
       "      <td>0.000000</td>\n",
       "      <td>title_Manager</td>\n",
       "    </tr>\n",
       "    <tr>\n",
       "      <th>11</th>\n",
       "      <td>0.000000</td>\n",
       "      <td>0.000000</td>\n",
       "      <td>title_Director</td>\n",
       "    </tr>\n",
       "    <tr>\n",
       "      <th>10</th>\n",
       "      <td>0.000000</td>\n",
       "      <td>0.000000</td>\n",
       "      <td>title_Staff</td>\n",
       "    </tr>\n",
       "    <tr>\n",
       "      <th>9</th>\n",
       "      <td>0.000000</td>\n",
       "      <td>0.000000</td>\n",
       "      <td>title_Junior</td>\n",
       "    </tr>\n",
       "    <tr>\n",
       "      <th>8</th>\n",
       "      <td>0.000000</td>\n",
       "      <td>0.000000</td>\n",
       "      <td>title_Senior</td>\n",
       "    </tr>\n",
       "    <tr>\n",
       "      <th>7</th>\n",
       "      <td>0.000000</td>\n",
       "      <td>0.000000</td>\n",
       "      <td>title_Statistic</td>\n",
       "    </tr>\n",
       "    <tr>\n",
       "      <th>6</th>\n",
       "      <td>0.000000</td>\n",
       "      <td>0.000000</td>\n",
       "      <td>title_Modeling</td>\n",
       "    </tr>\n",
       "    <tr>\n",
       "      <th>5</th>\n",
       "      <td>0.000000</td>\n",
       "      <td>0.000000</td>\n",
       "      <td>title_Machine</td>\n",
       "    </tr>\n",
       "    <tr>\n",
       "      <th>2</th>\n",
       "      <td>0.000000</td>\n",
       "      <td>0.000000</td>\n",
       "      <td>title_Analyst</td>\n",
       "    </tr>\n",
       "    <tr>\n",
       "      <th>33</th>\n",
       "      <td>0.000000</td>\n",
       "      <td>0.000000</td>\n",
       "      <td>city_Seattle</td>\n",
       "    </tr>\n",
       "  </tbody>\n",
       "</table>\n",
       "</div>"
      ],
      "text/plain": [
       "    abs_coef      coef             feature\n",
       "32  0.554073  0.554073  city_San Francisco\n",
       "4   0.445928  0.445928      title_Engineer\n",
       "0   0.408190  0.408190          title_Data\n",
       "3   0.374016 -0.374016      title_Research\n",
       "25  0.000000  0.000000          city_Miami\n",
       "20  0.000000  0.000000        city_Chicago\n",
       "21  0.000000  0.000000         city_Dallas\n",
       "22  0.000000  0.000000         city_Denver\n",
       "23  0.000000  0.000000     city_Long Beach\n",
       "24  0.000000  0.000000    city_Los Angeles\n",
       "27  0.000000  0.000000   city_Philadelphia\n",
       "26  0.000000  0.000000       city_New York\n",
       "18  0.000000  0.000000         city_Boston\n",
       "28  0.000000  0.000000        city_Phoenix\n",
       "29  0.000000  0.000000     city_Pittsburgh\n",
       "30  0.000000  0.000000       city_Portland\n",
       "31  0.000000  0.000000      city_San Diego\n",
       "19  0.000000  0.000000        city_Boulder\n",
       "17  0.000000  0.000000         city_Austin\n",
       "1   0.000000  0.000000     title_Scientist\n",
       "16  0.000000  0.000000        city_Atlanta\n",
       "15  0.000000  0.000000         city_Albany\n",
       "14  0.000000  0.000000     title_Principal\n",
       "13  0.000000  0.000000        title_Intern\n",
       "12  0.000000  0.000000       title_Manager\n",
       "11  0.000000  0.000000      title_Director\n",
       "10  0.000000  0.000000         title_Staff\n",
       "9   0.000000  0.000000        title_Junior\n",
       "8   0.000000  0.000000        title_Senior\n",
       "7   0.000000  0.000000     title_Statistic\n",
       "6   0.000000  0.000000      title_Modeling\n",
       "5   0.000000  0.000000       title_Machine\n",
       "2   0.000000  0.000000       title_Analyst\n",
       "33  0.000000  0.000000        city_Seattle"
      ]
     },
     "execution_count": 104,
     "metadata": {},
     "output_type": "execute_result"
    }
   ],
   "source": [
    "coef_df = pd.DataFrame({'coef': gs_logreg.best_estimator_.coef_[0], 'feature': X_tr.columns, \n",
    "            'abs_coef': np.abs(gs_logreg.best_estimator_.coef_[0])})\n",
    "coef_df.sort_values('abs_coef', ascending=False, inplace=True)\n",
    "coef_df"
   ]
  },
  {
   "cell_type": "code",
   "execution_count": 105,
   "metadata": {},
   "outputs": [
    {
     "data": {
      "text/html": [
       "<div>\n",
       "<style scoped>\n",
       "    .dataframe tbody tr th:only-of-type {\n",
       "        vertical-align: middle;\n",
       "    }\n",
       "\n",
       "    .dataframe tbody tr th {\n",
       "        vertical-align: top;\n",
       "    }\n",
       "\n",
       "    .dataframe thead th {\n",
       "        text-align: right;\n",
       "    }\n",
       "</style>\n",
       "<table border=\"1\" class=\"dataframe\">\n",
       "  <thead>\n",
       "    <tr style=\"text-align: right;\">\n",
       "      <th></th>\n",
       "      <th>pred_high_sal</th>\n",
       "      <th>pred_low_sal</th>\n",
       "    </tr>\n",
       "  </thead>\n",
       "  <tbody>\n",
       "    <tr>\n",
       "      <th>high_sal</th>\n",
       "      <td>27</td>\n",
       "      <td>11</td>\n",
       "    </tr>\n",
       "    <tr>\n",
       "      <th>low_sal</th>\n",
       "      <td>13</td>\n",
       "      <td>25</td>\n",
       "    </tr>\n",
       "  </tbody>\n",
       "</table>\n",
       "</div>"
      ],
      "text/plain": [
       "          pred_high_sal  pred_low_sal\n",
       "high_sal             27            11\n",
       "low_sal              13            25"
      ]
     },
     "execution_count": 105,
     "metadata": {},
     "output_type": "execute_result"
    }
   ],
   "source": [
    "logreg_yhat = gs_logreg.best_estimator_.predict(X_te)\n",
    "confusion = confusion_matrix(y_te,logreg_yhat,labels=[1,0])\n",
    "pd.DataFrame(confusion, columns=['pred_high_sal', 'pred_low_sal'], index=['high_sal', 'low_sal'])"
   ]
  },
  {
   "cell_type": "code",
   "execution_count": 106,
   "metadata": {},
   "outputs": [
    {
     "name": "stdout",
     "output_type": "stream",
     "text": [
      "             precision    recall  f1-score   support\n",
      "\n",
      "          1       0.68      0.71      0.69        38\n",
      "          0       0.69      0.66      0.68        38\n",
      "\n",
      "avg / total       0.68      0.68      0.68        76\n",
      "\n"
     ]
    }
   ],
   "source": [
    "print(classification_report(y_te, logreg_yhat, labels=[1,0]))"
   ]
  },
  {
   "cell_type": "code",
   "execution_count": 107,
   "metadata": {},
   "outputs": [],
   "source": [
    "# predicted probabilities\n",
    "lr_prob = gs_logreg.best_estimator_.predict_proba(X_te)"
   ]
  },
  {
   "cell_type": "markdown",
   "metadata": {},
   "source": [
    "<b>Rates at 0.7 threshold level</b>"
   ]
  },
  {
   "cell_type": "code",
   "execution_count": 108,
   "metadata": {},
   "outputs": [],
   "source": [
    "predictions_for_70 = (lr_prob[:,1]>0.7)*1"
   ]
  },
  {
   "cell_type": "code",
   "execution_count": 109,
   "metadata": {},
   "outputs": [
    {
     "data": {
      "text/html": [
       "<div>\n",
       "<style scoped>\n",
       "    .dataframe tbody tr th:only-of-type {\n",
       "        vertical-align: middle;\n",
       "    }\n",
       "\n",
       "    .dataframe tbody tr th {\n",
       "        vertical-align: top;\n",
       "    }\n",
       "\n",
       "    .dataframe thead th {\n",
       "        text-align: right;\n",
       "    }\n",
       "</style>\n",
       "<table border=\"1\" class=\"dataframe\">\n",
       "  <thead>\n",
       "    <tr style=\"text-align: right;\">\n",
       "      <th></th>\n",
       "      <th>pred_high_sal</th>\n",
       "      <th>pred_low_sal</th>\n",
       "    </tr>\n",
       "  </thead>\n",
       "  <tbody>\n",
       "    <tr>\n",
       "      <th>high_sal</th>\n",
       "      <td>9</td>\n",
       "      <td>29</td>\n",
       "    </tr>\n",
       "    <tr>\n",
       "      <th>low_sal</th>\n",
       "      <td>0</td>\n",
       "      <td>38</td>\n",
       "    </tr>\n",
       "  </tbody>\n",
       "</table>\n",
       "</div>"
      ],
      "text/plain": [
       "          pred_high_sal  pred_low_sal\n",
       "high_sal              9            29\n",
       "low_sal               0            38"
      ]
     },
     "execution_count": 109,
     "metadata": {},
     "output_type": "execute_result"
    }
   ],
   "source": [
    "confusion = confusion_matrix(y_te, predictions_for_70, labels=[1,0])\n",
    "pd.DataFrame(confusion, columns=['pred_high_sal', 'pred_low_sal'], index=['high_sal', 'low_sal'])"
   ]
  },
  {
   "cell_type": "code",
   "execution_count": 110,
   "metadata": {},
   "outputs": [
    {
     "name": "stdout",
     "output_type": "stream",
     "text": [
      "             precision    recall  f1-score   support\n",
      "\n",
      "          1       1.00      0.24      0.38        38\n",
      "          0       0.57      1.00      0.72        38\n",
      "\n",
      "avg / total       0.78      0.62      0.55        76\n",
      "\n"
     ]
    }
   ],
   "source": [
    "print(classification_report(y_te, predictions_for_70, labels=[1,0]))"
   ]
  },
  {
   "cell_type": "markdown",
   "metadata": {},
   "source": [
    "<b>Results of the Logistic Regression Model with added variables</b>"
   ]
  },
  {
   "cell_type": "markdown",
   "metadata": {},
   "source": [
    "The model with added binary predictors created based on the job title including the following words: Data, Scientist, Analyst, Research, Engineer, Machine, Modeling, Statistic, Senior, Junior, Staff, Director, Manager, Intern, Principal.\n",
    "\n",
    "Cross validated model returned an accuracy score of 0.68 which is very similar to the previous models. The model had a 68% precision rate at the 0.5 probability threshold and a 71% recall rate. Given the concerns about wrong higher salary predictions, I increased the probability threshold to 0.7 and as a result, the model has a high precision which indicates that the model is correct 100% of the time in predicting higher salaries.\n",
    "\n",
    "As the regularization has been used, most of the variables weren't entered the model. Looking at the coefficients, we can see that, again, San Francisco has the largest contribution to the model. The other predictors of higher salaries are having Engineer, Data, and Research in the job title. While Engineer and Data has positive coefficients, Data has a negative coefficient meaning that a job including word Research in the title is more likely to have a salary below median."
   ]
  },
  {
   "cell_type": "markdown",
   "metadata": {},
   "source": [
    "<b>RANDOM FOREST:</b>"
   ]
  },
  {
   "cell_type": "code",
   "execution_count": 111,
   "metadata": {},
   "outputs": [],
   "source": [
    "from sklearn.model_selection import GridSearchCV"
   ]
  },
  {
   "cell_type": "code",
   "execution_count": 112,
   "metadata": {},
   "outputs": [],
   "source": [
    "from sklearn.ensemble import RandomForestClassifier"
   ]
  },
  {
   "cell_type": "code",
   "execution_count": 139,
   "metadata": {},
   "outputs": [
    {
     "name": "stdout",
     "output_type": "stream",
     "text": [
      "Fitting 3 folds for each of 1080 candidates, totalling 3240 fits\n"
     ]
    },
    {
     "name": "stderr",
     "output_type": "stream",
     "text": [
      "[Parallel(n_jobs=-1)]: Done 144 tasks      | elapsed:    2.1s\n",
      "[Parallel(n_jobs=-1)]: Done 744 tasks      | elapsed:   10.0s\n",
      "[Parallel(n_jobs=-1)]: Done 1744 tasks      | elapsed:   23.3s\n",
      "[Parallel(n_jobs=-1)]: Done 3144 tasks      | elapsed:   42.3s\n",
      "[Parallel(n_jobs=-1)]: Done 3240 out of 3240 | elapsed:   43.8s finished\n"
     ]
    },
    {
     "data": {
      "text/plain": [
       "GridSearchCV(cv=3, error_score='raise',\n",
       "       estimator=RandomForestClassifier(bootstrap=True, class_weight=None, criterion='gini',\n",
       "            max_depth=None, max_features='auto', max_leaf_nodes=None,\n",
       "            min_impurity_decrease=0.0, min_impurity_split=None,\n",
       "            min_samples_leaf=1, min_samples_split=2,\n",
       "            min_weight_fraction_leaf=0.0, n_estimators=30, n_jobs=1,\n",
       "            oob_score=False, random_state=None, verbose=0,\n",
       "            warm_start=False),\n",
       "       fit_params=None, iid=True, n_jobs=-1,\n",
       "       param_grid={'max_depth': [3, 6, 10, 15, None], 'max_features': ['sqrt', 'log2', None, 0.2, 0.5, 0.7], 'min_samples_split': [2, 3, 10], 'min_samples_leaf': [1, 3, 10], 'bootstrap': [True, False], 'criterion': ['gini', 'entropy']},\n",
       "       pre_dispatch='2*n_jobs', refit=True, return_train_score='warn',\n",
       "       scoring=None, verbose=1)"
      ]
     },
     "execution_count": 139,
     "metadata": {},
     "output_type": "execute_result"
    }
   ],
   "source": [
    "param_grid = {\"max_depth\": [3, 6, 10, 15, None],\n",
    "              \"max_features\": ['sqrt', 'log2', None, 0.2, 0.5, 0.7],\n",
    "              \"min_samples_split\": [2, 3, 10],\n",
    "              \"min_samples_leaf\": [1, 3, 10],\n",
    "              \"bootstrap\": [True, False],\n",
    "              \"criterion\": [\"gini\", \"entropy\"]}\n",
    "gs_f = GridSearchCV(RandomForestClassifier(n_estimators=30), param_grid = param_grid, cv=3, n_jobs=-1, verbose=1)\n",
    "gs_f.fit(X_tr, y_tr)"
   ]
  },
  {
   "cell_type": "code",
   "execution_count": 140,
   "metadata": {},
   "outputs": [
    {
     "name": "stdout",
     "output_type": "stream",
     "text": [
      "Best Model Score: 0.7077922077922078\n",
      "Best Parameters: {'bootstrap': False, 'criterion': 'gini', 'max_depth': 3, 'max_features': 'sqrt', 'min_samples_leaf': 10, 'min_samples_split': 3}\n",
      "Accuracy Score: 0.6842105263157895\n"
     ]
    }
   ],
   "source": [
    "# Model Scores, best parameters and the intercept\n",
    "print('Best Model Score:', gs_f.best_score_)\n",
    "print('Best Parameters:', gs_f.best_params_)\n",
    "print('Accuracy Score:', gs_f.best_estimator_.score(X_te, y_te))"
   ]
  },
  {
   "cell_type": "code",
   "execution_count": 141,
   "metadata": {},
   "outputs": [],
   "source": [
    "best_rf = gs_f.best_estimator_"
   ]
  },
  {
   "cell_type": "code",
   "execution_count": 142,
   "metadata": {},
   "outputs": [
    {
     "data": {
      "text/plain": [
       "RandomForestClassifier(bootstrap=False, class_weight=None, criterion='gini',\n",
       "            max_depth=3, max_features='sqrt', max_leaf_nodes=None,\n",
       "            min_impurity_decrease=0.0, min_impurity_split=None,\n",
       "            min_samples_leaf=10, min_samples_split=3,\n",
       "            min_weight_fraction_leaf=0.0, n_estimators=30, n_jobs=1,\n",
       "            oob_score=False, random_state=None, verbose=0,\n",
       "            warm_start=False)"
      ]
     },
     "execution_count": 142,
     "metadata": {},
     "output_type": "execute_result"
    }
   ],
   "source": [
    "best_rf.fit(X_tr, y_tr)"
   ]
  },
  {
   "cell_type": "code",
   "execution_count": 143,
   "metadata": {},
   "outputs": [],
   "source": [
    "from sklearn.externals.six import StringIO\n",
    "from sklearn.tree import export_graphviz\n",
    "import pydotplus\n",
    "from IPython.display import Image\n",
    "\n",
    "dot_data = StringIO()\n",
    "export_graphviz(best_rf[1], out_file=dot_data,\n",
    "                feature_names=X_tr.columns,\n",
    "#                 class_names=best_rf[0].feature_names,\n",
    "               filled=True, rounded=True,\n",
    "                proportion=True,\n",
    "                special_characters=True,\n",
    "                node_ids=True)\n",
    "graph = pydotplus.graph_from_dot_data(dot_data.getvalue())"
   ]
  },
  {
   "cell_type": "code",
   "execution_count": 144,
   "metadata": {
    "scrolled": false
   },
   "outputs": [
    {
     "data": {
      "image/png": "[encoded data removed]",
      "text/plain": [
       "<IPython.core.display.Image object>"
      ]
     },
     "execution_count": 144,
     "metadata": {},
     "output_type": "execute_result"
    }
   ],
   "source": [
    "Image(graph.create_png())"
   ]
  },
  {
   "cell_type": "code",
   "execution_count": 146,
   "metadata": {},
   "outputs": [
    {
     "data": {
      "text/html": [
       "<div>\n",
       "<style scoped>\n",
       "    .dataframe tbody tr th:only-of-type {\n",
       "        vertical-align: middle;\n",
       "    }\n",
       "\n",
       "    .dataframe tbody tr th {\n",
       "        vertical-align: top;\n",
       "    }\n",
       "\n",
       "    .dataframe thead th {\n",
       "        text-align: right;\n",
       "    }\n",
       "</style>\n",
       "<table border=\"1\" class=\"dataframe\">\n",
       "  <thead>\n",
       "    <tr style=\"text-align: right;\">\n",
       "      <th></th>\n",
       "      <th>importance</th>\n",
       "    </tr>\n",
       "  </thead>\n",
       "  <tbody>\n",
       "    <tr>\n",
       "      <th>title_Data</th>\n",
       "      <td>0.233534</td>\n",
       "    </tr>\n",
       "    <tr>\n",
       "      <th>title_Engineer</th>\n",
       "      <td>0.178993</td>\n",
       "    </tr>\n",
       "    <tr>\n",
       "      <th>city_San Francisco</th>\n",
       "      <td>0.109534</td>\n",
       "    </tr>\n",
       "    <tr>\n",
       "      <th>title_Research</th>\n",
       "      <td>0.087401</td>\n",
       "    </tr>\n",
       "    <tr>\n",
       "      <th>city_Chicago</th>\n",
       "      <td>0.080660</td>\n",
       "    </tr>\n",
       "    <tr>\n",
       "      <th>title_Senior</th>\n",
       "      <td>0.065255</td>\n",
       "    </tr>\n",
       "    <tr>\n",
       "      <th>title_Scientist</th>\n",
       "      <td>0.052616</td>\n",
       "    </tr>\n",
       "    <tr>\n",
       "      <th>title_Analyst</th>\n",
       "      <td>0.018412</td>\n",
       "    </tr>\n",
       "    <tr>\n",
       "      <th>city_Boston</th>\n",
       "      <td>0.006241</td>\n",
       "    </tr>\n",
       "    <tr>\n",
       "      <th>city_Philadelphia</th>\n",
       "      <td>0.000686</td>\n",
       "    </tr>\n",
       "    <tr>\n",
       "      <th>city_Los Angeles</th>\n",
       "      <td>0.000000</td>\n",
       "    </tr>\n",
       "    <tr>\n",
       "      <th>city_Denver</th>\n",
       "      <td>0.000000</td>\n",
       "    </tr>\n",
       "    <tr>\n",
       "      <th>city_Long Beach</th>\n",
       "      <td>0.000000</td>\n",
       "    </tr>\n",
       "    <tr>\n",
       "      <th>city_Phoenix</th>\n",
       "      <td>0.000000</td>\n",
       "    </tr>\n",
       "    <tr>\n",
       "      <th>city_Miami</th>\n",
       "      <td>0.000000</td>\n",
       "    </tr>\n",
       "    <tr>\n",
       "      <th>city_New York</th>\n",
       "      <td>0.000000</td>\n",
       "    </tr>\n",
       "    <tr>\n",
       "      <th>city_Pittsburgh</th>\n",
       "      <td>0.000000</td>\n",
       "    </tr>\n",
       "    <tr>\n",
       "      <th>city_Portland</th>\n",
       "      <td>0.000000</td>\n",
       "    </tr>\n",
       "    <tr>\n",
       "      <th>city_San Diego</th>\n",
       "      <td>0.000000</td>\n",
       "    </tr>\n",
       "    <tr>\n",
       "      <th>city_Dallas</th>\n",
       "      <td>0.000000</td>\n",
       "    </tr>\n",
       "    <tr>\n",
       "      <th>city_Austin</th>\n",
       "      <td>0.000000</td>\n",
       "    </tr>\n",
       "    <tr>\n",
       "      <th>city_Boulder</th>\n",
       "      <td>0.000000</td>\n",
       "    </tr>\n",
       "    <tr>\n",
       "      <th>city_Atlanta</th>\n",
       "      <td>0.000000</td>\n",
       "    </tr>\n",
       "    <tr>\n",
       "      <th>city_Albany</th>\n",
       "      <td>0.000000</td>\n",
       "    </tr>\n",
       "    <tr>\n",
       "      <th>title_Principal</th>\n",
       "      <td>0.000000</td>\n",
       "    </tr>\n",
       "    <tr>\n",
       "      <th>title_Intern</th>\n",
       "      <td>0.000000</td>\n",
       "    </tr>\n",
       "    <tr>\n",
       "      <th>title_Manager</th>\n",
       "      <td>0.000000</td>\n",
       "    </tr>\n",
       "    <tr>\n",
       "      <th>title_Director</th>\n",
       "      <td>0.000000</td>\n",
       "    </tr>\n",
       "    <tr>\n",
       "      <th>title_Staff</th>\n",
       "      <td>0.000000</td>\n",
       "    </tr>\n",
       "    <tr>\n",
       "      <th>title_Junior</th>\n",
       "      <td>0.000000</td>\n",
       "    </tr>\n",
       "    <tr>\n",
       "      <th>title_Statistic</th>\n",
       "      <td>0.000000</td>\n",
       "    </tr>\n",
       "    <tr>\n",
       "      <th>title_Modeling</th>\n",
       "      <td>0.000000</td>\n",
       "    </tr>\n",
       "    <tr>\n",
       "      <th>title_Machine</th>\n",
       "      <td>0.000000</td>\n",
       "    </tr>\n",
       "    <tr>\n",
       "      <th>city_Seattle</th>\n",
       "      <td>0.000000</td>\n",
       "    </tr>\n",
       "  </tbody>\n",
       "</table>\n",
       "</div>"
      ],
      "text/plain": [
       "                    importance\n",
       "title_Data            0.233534\n",
       "title_Engineer        0.178993\n",
       "city_San Francisco    0.109534\n",
       "title_Research        0.087401\n",
       "city_Chicago          0.080660\n",
       "title_Senior          0.065255\n",
       "title_Scientist       0.052616\n",
       "title_Analyst         0.018412\n",
       "city_Boston           0.006241\n",
       "city_Philadelphia     0.000686\n",
       "city_Los Angeles      0.000000\n",
       "city_Denver           0.000000\n",
       "city_Long Beach       0.000000\n",
       "city_Phoenix          0.000000\n",
       "city_Miami            0.000000\n",
       "city_New York         0.000000\n",
       "city_Pittsburgh       0.000000\n",
       "city_Portland         0.000000\n",
       "city_San Diego        0.000000\n",
       "city_Dallas           0.000000\n",
       "city_Austin           0.000000\n",
       "city_Boulder          0.000000\n",
       "city_Atlanta          0.000000\n",
       "city_Albany           0.000000\n",
       "title_Principal       0.000000\n",
       "title_Intern          0.000000\n",
       "title_Manager         0.000000\n",
       "title_Director        0.000000\n",
       "title_Staff           0.000000\n",
       "title_Junior          0.000000\n",
       "title_Statistic       0.000000\n",
       "title_Modeling        0.000000\n",
       "title_Machine         0.000000\n",
       "city_Seattle          0.000000"
      ]
     },
     "execution_count": 146,
     "metadata": {},
     "output_type": "execute_result"
    }
   ],
   "source": [
    "# Feature importances\n",
    "feature_im = pd.DataFrame(data=best_rf.feature_importances_, index=X_te.columns, columns=['importance'])\n",
    "feature_im.sort_values(by=['importance'], ascending=False )"
   ]
  },
  {
   "cell_type": "code",
   "execution_count": null,
   "metadata": {},
   "outputs": [],
   "source": [
    "# confusion matrix\n",
    "rf_yhat = gs_f.best_estimator_.predict(X_te)\n",
    "confusion = confusion_matrix(y_te,rf_yhat,labels=[1,0])\n",
    "pd.DataFrame(confusion, columns=['pred_high_sal', 'pred_low_sal'], index=['high_sal', 'low_sal'])"
   ]
  },
  {
   "cell_type": "code",
   "execution_count": null,
   "metadata": {},
   "outputs": [],
   "source": [
    "# classification report\n",
    "print(classification_report(y_te, rf_yhat, labels=[1,0]))"
   ]
  },
  {
   "cell_type": "code",
   "execution_count": null,
   "metadata": {},
   "outputs": [],
   "source": [
    "# Predicted proabbilities\n",
    "rf_prob = gs_f.best_estimator_.predict_proba(X_te)"
   ]
  },
  {
   "cell_type": "markdown",
   "metadata": {},
   "source": [
    "<b>Results of Random Forest</b>\n",
    "\n",
    "A cross validated grid search method was used again to find the optimal hyper parameters for an efficient model. Overall accuracy score for the best estimator is 0.68 similar to the previous models. Classification report indicates that the random forest model has a slightly better recall(0.71) than precision (0.68).\n",
    "\n",
    "As can be seen in the above tree graph and the feature importance table, variables title_Research, city_San Francisco, and title_Engineer were used in deciding the higher salaries. "
   ]
  },
  {
   "cell_type": "markdown",
   "metadata": {},
   "source": [
    "<b>ROC Curve for Skelearn Logistic Regression and Random Forest:</b>"
   ]
  },
  {
   "cell_type": "code",
   "execution_count": null,
   "metadata": {},
   "outputs": [],
   "source": [
    "fpr_rf, tpr_rf, treshold_rf = roc_curve(y_te, rf_prob[:,1])\n",
    "roc_auc_df = auc(fpr_rf, tpr_rf)"
   ]
  },
  {
   "cell_type": "code",
   "execution_count": null,
   "metadata": {},
   "outputs": [],
   "source": [
    "fpr_llr, tpr_llr, treshold_llr = roc_curve(y_te, lr_prob[:,1])\n",
    "roc_auc_llr = auc(fpr_llr, tpr_llr)"
   ]
  },
  {
   "cell_type": "code",
   "execution_count": null,
   "metadata": {},
   "outputs": [],
   "source": [
    "fig, ax = plt.subplots(figsize=(8,8))\n",
    "\n",
    "ax.plot(fpr_rf, tpr_rf, label='Random Forest Model (area = %0.3f)' %roc_auc_df, linewidth=3);\n",
    "ax.plot(fpr_llr, tpr_llr, label='Sklearn LogReg Model (area = %0.3f)' %roc_auc_llr, linewidth=3)\n",
    "ax.plot([0, 1], [0, 1], 'k--', linewidth=4)\n",
    "\n",
    "ax.set_xlabel('False Positive Rate', fontsize=14)\n",
    "ax.set_ylabel('True Positive Rate', fontsize=14)\n",
    "ax.set_title('Receiver operating characteristic: Salary over median with additional features', fontsize=14)\n",
    "ax.legend(loc=\"lower right\");"
   ]
  },
  {
   "cell_type": "markdown",
   "metadata": {},
   "source": [
    "As the results and the above ROC curve suggests, Logistic Regression has a overall better performance than Random Forest Model in prediction using title and location features as predictors."
   ]
  },
  {
   "cell_type": "markdown",
   "metadata": {},
   "source": [
    "### Summarize your results in an executive summary written for a non-technical audience.\n",
    "   \n",
    "- Writeups should be at least 500-1000 words, defining any technical terms, explaining your approach, as well as any risks and limitations."
   ]
  },
  {
   "cell_type": "markdown",
   "metadata": {},
   "source": [
    "The dataset that I used for the analyses consists of data scientist job adverts in 20 different cities in the USA. Data was scraped from indeed.com website using keywords 'data', 'scientist' and the city name. The number results per city were set to 5000, which yielded an initial dataset with around 90000 observations. However, the number of unique observations were not that high and when the data cleaning criteria were applied, the size of the sample was reduced to 230. In order to label the salaries, the median of the salary distribution was used as a threshold value (97436.0) such that the salaries that were higher than this value were labelled as high and the salaries that are below this threshold were labelled as low. The city with the highest number of data points (n=30), San Francisco, also had the highest proportion of higher salaries within this sample. \n",
    "\n",
    "To predict the higher salaries based on location, I tried both Logistic Regression and KNN classifiers. Logistic Regression model performed better with an accuracy score of 0.68 showing that it was better than the random guess (5% probability) which actually equals to the baseline accuracy in this sample. \n",
    "\n",
    "Logistic Regression model calculates probabilities of belonging to both classes for each data point and after that, the group memberships are decided based on a threshold level such as 0.5. At this threshold level, the model had a 77% precision and a 53% recall rate. These values illustrate how effective the model is in predicting the high salaries. The model was correct 77% of the time when it classified a data point as high salary whereas it was able to classify only 53% of the high salaries correctly.\n",
    "\n",
    "Given the concerns about wrong higher salary classifications, I increased the probability threshold to 0.7 and as a result, the model had a 92% precision rate which in this case is a preferable measure as we want to make true positive classifications rather than mistakenly classifying a low salary as high. \n",
    "\n",
    "Predictor cities that contributed to this model are San Francisco, Seattle, Chicago, Miami, Pittsburgh and Phoenix. Houston was dropped from the model as the mean salaries in this city was in the middle among all the cities. Thus, the results are evaluated in comparison to its log odds ratio. The odds ratio explains the relationship between changes in the values of an independent variable and the odds of event outcome. Looking at the coefficients, we can see that, a job in San Francisco is almost 10 times more likely to be in higher salary range in comparison to a job Houston. Other cities with smaller, but positive coefficients are Seattle and Chicago and the salaries are more likely to be in the higher range. The cities in the model such as Miami, Pittsburgh and Phoenix are more likely to have jobs being in the lower salary group.\n",
    "\n",
    "For the second model, I added some boolean variables in terms of having certain words in the job title such as Senior, Junior, Data, Scientist, Engineer, and Analyst. The next models were run adding these 15 job title features to the city variables. Similar to the previous approach, I used two different models and compared their performances in classification.\n",
    "\n",
    "The Logistic Regression model had a 0.68 accuracy which is similar to the previous models. At the 0.5 probability threshold the precision rate was 68% and recall rate was 71%. In order to increase precision, I increased the probability threshold to 0.7 and as a result, the model had a precision of 1, which indicates that the model is correct 100% of the time in predicting higher salaries even though the total number of high predictions is 9.\n",
    "\n",
    "San Francisco is a positive predictor of high salary, along with having Engineer, Data, and Research in the job title. While Engineer, Data, San Francisco has positive coefficients, Research has a negative coefficient meaning that a job including word Research in the title is more likely to have a lower salary.\n",
    "\n",
    "The results of my second classifier, Random Forest returned the same accuracy score and precision rate with the Logistic Regression model with the same feature set. As expected, the variables contributed to the model were Research and Engineer words in the title and San Francisco as the city. \n",
    "\n",
    "All the models were trained on 77.7% of the data and cross-validated before tested on the held-out testing set. Although the variation and the size of the sample were limited in all of the models, the results were fairly generalizable with different partitions. Increasing the classification threshold helped to increase the precision but the number of predictions made correctly was still quite low. Finally, overall predictors of the salary are San Francisco, Data, and Engineer."
   ]
  },
  {
   "cell_type": "markdown",
   "metadata": {},
   "source": [
    "### BONUS\n",
    "\n",
    "Convert your executive summary into a public blog post of at least 500 words, in which you document your approach in a tutorial for other aspiring data scientists. Link to this in your notebook."
   ]
  },
  {
   "cell_type": "code",
   "execution_count": null,
   "metadata": {},
   "outputs": [],
   "source": [
    "## YOUR LINK HERE IN MARKDOWN FORMAT "
   ]
  }
 ],
 "metadata": {
  "kernelspec": {
   "display_name": "Python 3",
   "language": "python",
   "name": "python3"
  },
  "language_info": {
   "codemirror_mode": {
    "name": "ipython",
    "version": 3
   },
   "file_extension": ".py",
   "mimetype": "text/x-python",
   "name": "python",
   "nbconvert_exporter": "python",
   "pygments_lexer": "ipython3",
   "version": "3.6.4"
  },
  "latex_envs": {
   "LaTeX_envs_menu_present": true,
   "autoclose": false,
   "autocomplete": true,
   "bibliofile": "biblio.bib",
   "cite_by": "apalike",
   "current_citInitial": 1,
   "eqLabelWithNumbers": true,
   "eqNumInitial": 1,
   "hotkeys": {
    "equation": "Ctrl-E",
    "itemize": "Ctrl-I"
   },
   "labels_anchors": false,
   "latex_user_defs": false,
   "report_style_numbering": false,
   "user_envs_cfg": false
  },
  "toc": {
   "nav_menu": {},
   "number_sections": false,
   "sideBar": true,
   "skip_h1_title": true,
   "title_cell": "Table of Contents",
   "title_sidebar": "Contents",
   "toc_cell": false,
   "toc_position": {},
   "toc_section_display": "block",
   "toc_window_display": false
  }
 },
 "nbformat": 4,
 "nbformat_minor": 1
}
